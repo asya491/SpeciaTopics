{
  "cells": [
    {
      "cell_type": "markdown",
      "metadata": {
        "id": "s3oPuqz5303g"
      },
      "source": [
        "Important Library's"
      ]
    },
    {
      "cell_type": "code",
      "execution_count": 2,
      "metadata": {
        "id": "i85cXBEf3gpX"
      },
      "outputs": [],
      "source": [
        "import pandas as pd\n",
        "import matplotlib.pyplot as plt\n",
        "import seaborn as sns\n",
        "import numpy as np\n",
        "from collections import Counter\n",
        "import re\n",
        "import tensorflow as tf\n",
        "from tensorflow.keras.preprocessing.text import Tokenizer\n",
        "from tensorflow.keras.preprocessing.sequence import pad_sequences\n",
        "from sklearn.metrics import accuracy_score, precision_score, recall_score, f1_score, roc_auc_score, confusion_matrix\n",
        "from sklearn.model_selection import train_test_split\n",
        "from sklearn.preprocessing import LabelEncoder\n",
        "from tensorflow.keras import layers, models, optimizers\n",
        "import os\n",
        "from tensorflow.keras import layers, models"
      ]
    },
    {
      "cell_type": "markdown",
      "metadata": {
        "id": "XNs9N_j_30Bt"
      },
      "source": [
        "Load the data & count (ham & spam)"
      ]
    },
    {
      "cell_type": "code",
      "execution_count": 3,
      "metadata": {
        "colab": {
          "base_uri": "https://localhost:8080/"
        },
        "id": "kHndApNAWeJ8",
        "outputId": "1773ddd4-ce4a-4e39-a2c4-bb37474ebc05"
      },
      "outputs": [
        {
          "output_type": "stream",
          "name": "stdout",
          "text": [
            "v1\n",
            "ham     4825\n",
            "spam     747\n",
            "Name: count, dtype: int64\n",
            "Approximate percentage of spam messages: 13.41%\n"
          ]
        }
      ],
      "source": [
        "df = pd.read_csv('spam.csv', encoding='latin-1')\n",
        "class_counts = df['v1'].value_counts()\n",
        "print(df['v1'].value_counts())\n",
        "print(f\"Approximate percentage of spam messages: {class_counts['spam'] / class_counts.sum():.2%}\")\n"
      ]
    },
    {
      "cell_type": "markdown",
      "metadata": {
        "id": "Lb-HuBky4uuK"
      },
      "source": [
        "Calculate Imbalance Ratio"
      ]
    },
    {
      "cell_type": "code",
      "execution_count": 4,
      "metadata": {
        "colab": {
          "base_uri": "https://localhost:8080/"
        },
        "id": "T_c2zS6_bpOP",
        "outputId": "2a977978-123a-4e27-9e6f-56d55236f88b"
      },
      "outputs": [
        {
          "output_type": "stream",
          "name": "stdout",
          "text": [
            "Imbalance Ratio (Majority / Minority): 6.46 : 1\n"
          ]
        }
      ],
      "source": [
        "majority_class = class_counts.idxmax()\n",
        "minority_class = class_counts.idxmin()\n",
        "\n",
        "majority_count = class_counts.max()\n",
        "minority_count = class_counts.min()\n",
        "\n",
        "imbalance_ratio = majority_count / minority_count\n",
        "\n",
        "print(f\"Imbalance Ratio (Majority / Minority): {imbalance_ratio:.2f} : 1\")\n"
      ]
    },
    {
      "cell_type": "markdown",
      "metadata": {
        "id": "mgKwDBf33nIh"
      },
      "source": [
        "Bar chart"
      ]
    },
    {
      "cell_type": "code",
      "execution_count": 5,
      "metadata": {
        "colab": {
          "base_uri": "https://localhost:8080/",
          "height": 472
        },
        "id": "ZjlajOM7XNm4",
        "outputId": "a9211cec-5cc8-47b2-e529-d23e5c635f43"
      },
      "outputs": [
        {
          "output_type": "display_data",
          "data": {
            "text/plain": [
              "<Figure size 640x480 with 1 Axes>"
            ],
            "image/png": "[encoded data removed]"
          },
          "metadata": {}
        }
      ],
      "source": [
        "sns.countplot(x='v1', data=df)\n",
        "plt.title('Distribution of Ham vs. Spam Emails')\n",
        "plt.show()"
      ]
    },
    {
      "cell_type": "markdown",
      "metadata": {
        "id": "4s304qX74_3O"
      },
      "source": [
        "# Data Preprocessing"
      ]
    },
    {
      "cell_type": "markdown",
      "metadata": {
        "id": "Xt47-6LR6fF7"
      },
      "source": [
        "Separate the minority class (spam)"
      ]
    },
    {
      "cell_type": "code",
      "execution_count": 6,
      "metadata": {
        "colab": {
          "base_uri": "https://localhost:8080/"
        },
        "id": "CMHNtZnw5Zhq",
        "outputId": "876305fa-fcc3-41ac-c6a3-d59cb653c139"
      },
      "outputs": [
        {
          "output_type": "stream",
          "name": "stdout",
          "text": [
            "Number of spam samples for GAN training: 747\n"
          ]
        }
      ],
      "source": [
        "spam_df = df[df['v1'] == 'spam']\n",
        "spam_texts = spam_df['v2'].tolist()\n",
        "\n",
        "print(f\"Number of spam samples for GAN training: {len(spam_texts)}\")"
      ]
    },
    {
      "cell_type": "code",
      "execution_count": 7,
      "metadata": {
        "colab": {
          "base_uri": "https://localhost:8080/"
        },
        "id": "eVN-6r5Vd8Oq",
        "outputId": "a59b74c4-f30b-4eda-bf0a-142f5290c032"
      },
      "outputs": [
        {
          "output_type": "stream",
          "name": "stdout",
          "text": [
            "\n",
            "Vocabulary size: 2193\n",
            "Selected max_sequence_length (90th percentile): 27\n",
            "Shape of padded spam sequences: (747, 27)\n",
            "Example original spam text: Free entry in 2 a wkly comp to win FA Cup final tkts 21st May 2005. Text FA to 87121 to receive entry question(std txt rate)T&C's apply 08452810075over18's\n",
            "Example cleaned spam text: free entry in a wkly comp to win fa cup final tkts st may text fa to to receive entry questionstd txt ratetcs apply overs\n",
            "Example padded spam sequence (first 10 tokens): [  7  99  35   3 206 271   2  43 547 469]\n",
            "Embedding dimension chosen: 128\n",
            "Vocabulary size for embedding layer: 2194\n",
            "Prepared 747 spam sequences for GAN training.\n",
            "Batch size: 64\n"
          ]
        }
      ],
      "source": [
        "# Text Preprocessing Functions\n",
        "def clean_text(text):\n",
        "    text = text.lower()\n",
        "    text = re.sub(r'http\\S+|www\\S+|https\\S+', '', text, flags=re.MULTILINE)\n",
        "    text = re.sub(r'<.*?>', '', text)\n",
        "    text = re.sub(r'[^a-z\\s]', '', text)\n",
        "    text = re.sub(r'\\s+', ' ', text).strip()\n",
        "    return text\n",
        "\n",
        "# Apply cleaning\n",
        "cleaned_spam_texts = [clean_text(text) for text in spam_texts]\n",
        "\n",
        "# Tokenization and Vocabulary Building using keras\n",
        "tokenizer = Tokenizer(num_words=None, oov_token=\"<unk>\")\n",
        "tokenizer.fit_on_texts(cleaned_spam_texts)\n",
        "word_index = tokenizer.word_index\n",
        "\n",
        "# Create reversed dictionary for numerical to text conversion (for generating samples)\n",
        "index_word = {v: k for k, v in word_index.items()}\n",
        "index_word[0] = \"<pad>\"\n",
        "print(f\"\\nVocabulary size: {len(word_index)}\")\n",
        "\n",
        "# Convert texts to sequences of integers\n",
        "spam_sequences = tokenizer.texts_to_sequences(cleaned_spam_texts)\n",
        "\n",
        "# Determine Max Sequence Length (Important for GAN input)\n",
        "lengths = [len(s) for s in spam_sequences]\n",
        "max_sequence_length = int(np.percentile(lengths, 90))\n",
        "if max_sequence_length == 0:\n",
        "    max_sequence_length = 20\n",
        "print(f\"Selected max_sequence_length (90th percentile): {max_sequence_length}\")\n",
        "\n",
        "# Pad sequences to a fixed length\n",
        "padded_spam_sequences = pad_sequences(spam_sequences, maxlen=max_sequence_length, padding='post', truncating='post')\n",
        "print(f\"Shape of padded spam sequences: {padded_spam_sequences.shape}\")\n",
        "print(f\"Example original spam text: {spam_texts[0]}\")\n",
        "print(f\"Example cleaned spam text: {cleaned_spam_texts[0]}\")\n",
        "print(f\"Example padded spam sequence (first 10 tokens): {padded_spam_sequences[0][:10]}\")\n",
        "\n",
        "#embedded\n",
        "EMBEDDING_DIM = 128\n",
        "VOCAB_SIZE = len(word_index) + 1\n",
        "print(f\"Embedding dimension chosen: {EMBEDDING_DIM}\")\n",
        "print(f\"Vocabulary size for embedding layer: {VOCAB_SIZE}\")\n",
        "\n",
        "#batch size\n",
        "BUFFER_SIZE = len(padded_spam_sequences)\n",
        "BATCH_SIZE = 64\n",
        "train_dataset = tf.data.Dataset.from_tensor_slices(padded_spam_sequences).shuffle(BUFFER_SIZE).batch(BATCH_SIZE)\n",
        "print(f\"Prepared {len(padded_spam_sequences)} spam sequences for GAN training.\")\n",
        "print(f\"Batch size: {BATCH_SIZE}\")\n",
        "\n",
        "\n",
        "\n"
      ]
    },
    {
      "cell_type": "code",
      "execution_count": 8,
      "metadata": {
        "colab": {
          "base_uri": "https://localhost:8080/"
        },
        "id": "qwq3A9rNMiMl",
        "outputId": "380a31e7-fd15-4e9b-a4b5-95729b3d0084"
      },
      "outputs": [
        {
          "output_type": "stream",
          "name": "stdout",
          "text": [
            "Embedding dimension chosen: 128\n",
            "Vocabulary size for embedding layer: 2194\n"
          ]
        },
        {
          "output_type": "stream",
          "name": "stderr",
          "text": [
            "/usr/local/lib/python3.11/dist-packages/keras/src/layers/core/embedding.py:90: UserWarning: Argument `input_length` is deprecated. Just remove it.\n",
            "  warnings.warn(\n"
          ]
        }
      ],
      "source": [
        "#embeddd layer\n",
        "print(f\"Embedding dimension chosen: {EMBEDDING_DIM}\")\n",
        "print(f\"Vocabulary size for embedding layer: {VOCAB_SIZE}\")\n",
        "\n",
        "# Create the embedding layer\n",
        "embedding_layer = tf.keras.layers.Embedding(\n",
        "    input_dim=VOCAB_SIZE,\n",
        "    output_dim=EMBEDDING_DIM,\n",
        "    embeddings_initializer='uniform',\n",
        "    input_length=max_sequence_length\n",
        ")"
      ]
    },
    {
      "cell_type": "code",
      "execution_count": 9,
      "metadata": {
        "colab": {
          "base_uri": "https://localhost:8080/"
        },
        "id": "3UXOvPyWrvcg",
        "outputId": "2000e1f3-85a8-4f1b-9959-4f3c34514104"
      },
      "outputs": [
        {
          "output_type": "stream",
          "name": "stdout",
          "text": [
            "\n",
            "Shared Embedding Layer created:\n",
            "  Input Dimension (Vocabulary Size): 2194\n",
            "  Output Dimension (Embedding Dimension): 128\n",
            "  Input Length (Max Sequence Length): 27\n",
            "  Trainable: True\n"
          ]
        }
      ],
      "source": [
        "NOISE_DIM = 100 # Dimension of the random noise vector fed to the Generator\n",
        "\n",
        "#  Shared Embedding Layer\n",
        "shared_embedding_layer = tf.keras.layers.Embedding(\n",
        "    VOCAB_SIZE,\n",
        "    EMBEDDING_DIM,\n",
        "    input_length=max_sequence_length,\n",
        "    trainable=True,\n",
        "    name='shared_embedding_layer'\n",
        ")\n",
        "print(\"\\nShared Embedding Layer created:\")\n",
        "print(f\"  Input Dimension (Vocabulary Size): {VOCAB_SIZE}\")\n",
        "print(f\"  Output Dimension (Embedding Dimension): {EMBEDDING_DIM}\")\n",
        "print(f\"  Input Length (Max Sequence Length): {max_sequence_length}\")\n",
        "print(f\"  Trainable: {shared_embedding_layer.trainable}\")"
      ]
    },
    {
      "cell_type": "code",
      "execution_count": 10,
      "metadata": {
        "id": "WL2hq2KW_0b2"
      },
      "outputs": [],
      "source": [
        "#  Generator Model (for both Vanilla GAN and WGAN-GP)\n",
        "def build_generator_continuous_output(vocab_size, embedding_dim, max_sequence_length, noise_dim):\n",
        "    \"\"\"\n",
        "    Builds the Generator model.\n",
        "    Takes a noise vector and outputs a sequence of continuous embeddings.\n",
        "    \"\"\"\n",
        "    noise_input = tf.keras.layers.Input(shape=(noise_dim,), name='noise_input')\n",
        "\n",
        "    # 1. Project noise: Expand the noise vector to a higher dimension.\n",
        "    x = tf.keras.layers.Dense(max_sequence_length * embedding_dim)(noise_input)\n",
        "    x = tf.keras.layers.LeakyReLU(alpha=0.2)(x)\n",
        "\n",
        "    # 2. Reshape: Transform the flat vector into a 3D tensor suitable for recurrent layers.\n",
        "    x = tf.keras.layers.Reshape((max_sequence_length, embedding_dim))(x)\n",
        "\n",
        "    # 3. Recurrent Layers (LSTMs): Process the sequence.\n",
        "    x = tf.keras.layers.LSTM(embedding_dim, return_sequences=True)(x)\n",
        "    x = tf.keras.layers.Dropout(0.3)(x)\n",
        "    x = tf.keras.layers.LSTM(embedding_dim, return_sequences=True)(x)\n",
        "    x = tf.keras.layers.Dropout(0.3)(x)\n",
        "\n",
        "    # 4. Output Layer: Produce the final sequence of embeddings.\n",
        "    output_embeddings = tf.keras.layers.TimeDistributed(tf.keras.layers.Dense(embedding_dim, activation='linear'))(x)\n",
        "\n",
        "    # Create the Keras Model\n",
        "    model = tf.keras.models.Model(noise_input, output_embeddings, name='generator')\n",
        "    return model"
      ]
    },
    {
      "cell_type": "code",
      "execution_count": 11,
      "metadata": {
        "id": "oGam5HkoABU4"
      },
      "outputs": [],
      "source": [
        "#  Discriminator Model (for Vanilla GAN)\n",
        "def build_discriminator_continuous_input(embedding_dim, max_sequence_length):\n",
        "    \"\"\"\n",
        "    Builds the Discriminator model for Vanilla GAN.\n",
        "    Takes a sequence of continuous embeddings and outputs a probability (real/fake).\n",
        "    \"\"\"\n",
        "    # 1. Input Layer: Expects a 3D tensor of embedded sequences.\n",
        "    seq_input = tf.keras.layers.Input(shape=(max_sequence_length, embedding_dim), name='embedded_sequence_input')\n",
        "\n",
        "    # 2. Recurrent Layer (LSTM): Process the sequence.\n",
        "    x = tf.keras.layers.LSTM(embedding_dim)(seq_input)\n",
        "    x = tf.keras.layers.Dropout(0.3)(x)\n",
        "\n",
        "    # 3. Output Layer: Single neuron with sigmoid activation for binary classification.\n",
        "    output = tf.keras.layers.Dense(1, activation='sigmoid')(x)\n",
        "\n",
        "    # Create the Keras Model\n",
        "    model = tf.keras.models.Model(seq_input, output, name='discriminator')\n",
        "    return model"
      ]
    },
    {
      "cell_type": "code",
      "execution_count": 12,
      "metadata": {
        "id": "6mQWCXo_AOgs"
      },
      "outputs": [],
      "source": [
        "# Critic Model (for WGAN-GP)\n",
        "def build_critic_continuous_input(embedding_dim, max_sequence_length):\n",
        "    \"\"\"\n",
        "    Builds the Critic model for WGAN-GP.\n",
        "    Takes a sequence of continuous embeddings and outputs a real value (no sigmoid).\n",
        "    \"\"\"\n",
        "    # 1. Input Layer: Same as Discriminator, expects embedded sequences.\n",
        "    seq_input = tf.keras.layers.Input(shape=(max_sequence_length, embedding_dim), name='embedded_sequence_input')\n",
        "\n",
        "    # 2. Recurrent Layer (LSTM): Process the sequence.\n",
        "    x = tf.keras.layers.LSTM(embedding_dim)(seq_input)\n",
        "    x = tf.keras.layers.Dropout(0.3)(x)\n",
        "\n",
        "    # 3. Output Layer: Single neuron with *no activation* (linear output).\n",
        "    output = tf.keras.layers.Dense(1)(x)\n",
        "\n",
        "    # Create the Keras Model\n",
        "    model = tf.keras.models.Model(seq_input, output, name='critic')\n",
        "    return model"
      ]
    },
    {
      "cell_type": "code",
      "execution_count": 13,
      "metadata": {
        "colab": {
          "base_uri": "https://localhost:8080/"
        },
        "id": "Ojb3nZzQAYvO",
        "outputId": "0637b2c4-a1dd-45b5-9ab6-bc0074674817",
        "collapsed": true
      },
      "outputs": [
        {
          "output_type": "stream",
          "name": "stderr",
          "text": [
            "/usr/local/lib/python3.11/dist-packages/keras/src/layers/activations/leaky_relu.py:41: UserWarning: Argument `alpha` is deprecated. Use `negative_slope` instead.\n",
            "  warnings.warn(\n"
          ]
        }
      ],
      "source": [
        "# Instantiate Models\n",
        "\n",
        "# For Vanilla GAN\n",
        "generator_vanilla = build_generator_continuous_output(VOCAB_SIZE, EMBEDDING_DIM, max_sequence_length, NOISE_DIM)\n",
        "discriminator_vanilla = build_discriminator_continuous_input(EMBEDDING_DIM, max_sequence_length)\n",
        "\n",
        "# For WGAN-GP\n",
        "generator_wgan = build_generator_continuous_output(VOCAB_SIZE, EMBEDDING_DIM, max_sequence_length, NOISE_DIM)\n",
        "critic_wgan = build_critic_continuous_input(EMBEDDING_DIM, max_sequence_length)"
      ]
    },
    {
      "cell_type": "code",
      "source": [
        "print(\"\\nVanilla GAN Generator Summary:\")\n",
        "generator_vanilla.summary()"
      ],
      "metadata": {
        "colab": {
          "base_uri": "https://localhost:8080/",
          "height": 469
        },
        "id": "Jsd8de1MC2oK",
        "outputId": "73b6dba7-d84c-4449-80e5-476a14a56000"
      },
      "execution_count": 14,
      "outputs": [
        {
          "output_type": "stream",
          "name": "stdout",
          "text": [
            "\n",
            "Vanilla GAN Generator Summary:\n"
          ]
        },
        {
          "output_type": "display_data",
          "data": {
            "text/plain": [
              "\u001b[1mModel: \"generator\"\u001b[0m\n"
            ],
            "text/html": [
              "<pre style=\"white-space:pre;overflow-x:auto;line-height:normal;font-family:Menlo,'DejaVu Sans Mono',consolas,'Courier New',monospace\"><span style=\"font-weight: bold\">Model: \"generator\"</span>\n",
              "</pre>\n"
            ]
          },
          "metadata": {}
        },
        {
          "output_type": "display_data",
          "data": {
            "text/plain": [
              "┏━━━━━━━━━━━━━━━━━━━━━━━━━━━━━━━━━┳━━━━━━━━━━━━━━━━━━━━━━━━┳━━━━━━━━━━━━━━━┓\n",
              "┃\u001b[1m \u001b[0m\u001b[1mLayer (type)                   \u001b[0m\u001b[1m \u001b[0m┃\u001b[1m \u001b[0m\u001b[1mOutput Shape          \u001b[0m\u001b[1m \u001b[0m┃\u001b[1m \u001b[0m\u001b[1m      Param #\u001b[0m\u001b[1m \u001b[0m┃\n",
              "┡━━━━━━━━━━━━━━━━━━━━━━━━━━━━━━━━━╇━━━━━━━━━━━━━━━━━━━━━━━━╇━━━━━━━━━━━━━━━┩\n",
              "│ noise_input (\u001b[38;5;33mInputLayer\u001b[0m)        │ (\u001b[38;5;45mNone\u001b[0m, \u001b[38;5;34m100\u001b[0m)            │             \u001b[38;5;34m0\u001b[0m │\n",
              "├─────────────────────────────────┼────────────────────────┼───────────────┤\n",
              "│ dense (\u001b[38;5;33mDense\u001b[0m)                   │ (\u001b[38;5;45mNone\u001b[0m, \u001b[38;5;34m3456\u001b[0m)           │       \u001b[38;5;34m349,056\u001b[0m │\n",
              "├─────────────────────────────────┼────────────────────────┼───────────────┤\n",
              "│ leaky_re_lu (\u001b[38;5;33mLeakyReLU\u001b[0m)         │ (\u001b[38;5;45mNone\u001b[0m, \u001b[38;5;34m3456\u001b[0m)           │             \u001b[38;5;34m0\u001b[0m │\n",
              "├─────────────────────────────────┼────────────────────────┼───────────────┤\n",
              "│ reshape (\u001b[38;5;33mReshape\u001b[0m)               │ (\u001b[38;5;45mNone\u001b[0m, \u001b[38;5;34m27\u001b[0m, \u001b[38;5;34m128\u001b[0m)        │             \u001b[38;5;34m0\u001b[0m │\n",
              "├─────────────────────────────────┼────────────────────────┼───────────────┤\n",
              "│ lstm (\u001b[38;5;33mLSTM\u001b[0m)                     │ (\u001b[38;5;45mNone\u001b[0m, \u001b[38;5;34m27\u001b[0m, \u001b[38;5;34m128\u001b[0m)        │       \u001b[38;5;34m131,584\u001b[0m │\n",
              "├─────────────────────────────────┼────────────────────────┼───────────────┤\n",
              "│ dropout (\u001b[38;5;33mDropout\u001b[0m)               │ (\u001b[38;5;45mNone\u001b[0m, \u001b[38;5;34m27\u001b[0m, \u001b[38;5;34m128\u001b[0m)        │             \u001b[38;5;34m0\u001b[0m │\n",
              "├─────────────────────────────────┼────────────────────────┼───────────────┤\n",
              "│ lstm_1 (\u001b[38;5;33mLSTM\u001b[0m)                   │ (\u001b[38;5;45mNone\u001b[0m, \u001b[38;5;34m27\u001b[0m, \u001b[38;5;34m128\u001b[0m)        │       \u001b[38;5;34m131,584\u001b[0m │\n",
              "├─────────────────────────────────┼────────────────────────┼───────────────┤\n",
              "│ dropout_1 (\u001b[38;5;33mDropout\u001b[0m)             │ (\u001b[38;5;45mNone\u001b[0m, \u001b[38;5;34m27\u001b[0m, \u001b[38;5;34m128\u001b[0m)        │             \u001b[38;5;34m0\u001b[0m │\n",
              "├─────────────────────────────────┼────────────────────────┼───────────────┤\n",
              "│ time_distributed                │ (\u001b[38;5;45mNone\u001b[0m, \u001b[38;5;34m27\u001b[0m, \u001b[38;5;34m128\u001b[0m)        │        \u001b[38;5;34m16,512\u001b[0m │\n",
              "│ (\u001b[38;5;33mTimeDistributed\u001b[0m)               │                        │               │\n",
              "└─────────────────────────────────┴────────────────────────┴───────────────┘\n"
            ],
            "text/html": [
              "<pre style=\"white-space:pre;overflow-x:auto;line-height:normal;font-family:Menlo,'DejaVu Sans Mono',consolas,'Courier New',monospace\">┏━━━━━━━━━━━━━━━━━━━━━━━━━━━━━━━━━┳━━━━━━━━━━━━━━━━━━━━━━━━┳━━━━━━━━━━━━━━━┓\n",
              "┃<span style=\"font-weight: bold\"> Layer (type)                    </span>┃<span style=\"font-weight: bold\"> Output Shape           </span>┃<span style=\"font-weight: bold\">       Param # </span>┃\n",
              "┡━━━━━━━━━━━━━━━━━━━━━━━━━━━━━━━━━╇━━━━━━━━━━━━━━━━━━━━━━━━╇━━━━━━━━━━━━━━━┩\n",
              "│ noise_input (<span style=\"color: #0087ff; text-decoration-color: #0087ff\">InputLayer</span>)        │ (<span style=\"color: #00d7ff; text-decoration-color: #00d7ff\">None</span>, <span style=\"color: #00af00; text-decoration-color: #00af00\">100</span>)            │             <span style=\"color: #00af00; text-decoration-color: #00af00\">0</span> │\n",
              "├─────────────────────────────────┼────────────────────────┼───────────────┤\n",
              "│ dense (<span style=\"color: #0087ff; text-decoration-color: #0087ff\">Dense</span>)                   │ (<span style=\"color: #00d7ff; text-decoration-color: #00d7ff\">None</span>, <span style=\"color: #00af00; text-decoration-color: #00af00\">3456</span>)           │       <span style=\"color: #00af00; text-decoration-color: #00af00\">349,056</span> │\n",
              "├─────────────────────────────────┼────────────────────────┼───────────────┤\n",
              "│ leaky_re_lu (<span style=\"color: #0087ff; text-decoration-color: #0087ff\">LeakyReLU</span>)         │ (<span style=\"color: #00d7ff; text-decoration-color: #00d7ff\">None</span>, <span style=\"color: #00af00; text-decoration-color: #00af00\">3456</span>)           │             <span style=\"color: #00af00; text-decoration-color: #00af00\">0</span> │\n",
              "├─────────────────────────────────┼────────────────────────┼───────────────┤\n",
              "│ reshape (<span style=\"color: #0087ff; text-decoration-color: #0087ff\">Reshape</span>)               │ (<span style=\"color: #00d7ff; text-decoration-color: #00d7ff\">None</span>, <span style=\"color: #00af00; text-decoration-color: #00af00\">27</span>, <span style=\"color: #00af00; text-decoration-color: #00af00\">128</span>)        │             <span style=\"color: #00af00; text-decoration-color: #00af00\">0</span> │\n",
              "├─────────────────────────────────┼────────────────────────┼───────────────┤\n",
              "│ lstm (<span style=\"color: #0087ff; text-decoration-color: #0087ff\">LSTM</span>)                     │ (<span style=\"color: #00d7ff; text-decoration-color: #00d7ff\">None</span>, <span style=\"color: #00af00; text-decoration-color: #00af00\">27</span>, <span style=\"color: #00af00; text-decoration-color: #00af00\">128</span>)        │       <span style=\"color: #00af00; text-decoration-color: #00af00\">131,584</span> │\n",
              "├─────────────────────────────────┼────────────────────────┼───────────────┤\n",
              "│ dropout (<span style=\"color: #0087ff; text-decoration-color: #0087ff\">Dropout</span>)               │ (<span style=\"color: #00d7ff; text-decoration-color: #00d7ff\">None</span>, <span style=\"color: #00af00; text-decoration-color: #00af00\">27</span>, <span style=\"color: #00af00; text-decoration-color: #00af00\">128</span>)        │             <span style=\"color: #00af00; text-decoration-color: #00af00\">0</span> │\n",
              "├─────────────────────────────────┼────────────────────────┼───────────────┤\n",
              "│ lstm_1 (<span style=\"color: #0087ff; text-decoration-color: #0087ff\">LSTM</span>)                   │ (<span style=\"color: #00d7ff; text-decoration-color: #00d7ff\">None</span>, <span style=\"color: #00af00; text-decoration-color: #00af00\">27</span>, <span style=\"color: #00af00; text-decoration-color: #00af00\">128</span>)        │       <span style=\"color: #00af00; text-decoration-color: #00af00\">131,584</span> │\n",
              "├─────────────────────────────────┼────────────────────────┼───────────────┤\n",
              "│ dropout_1 (<span style=\"color: #0087ff; text-decoration-color: #0087ff\">Dropout</span>)             │ (<span style=\"color: #00d7ff; text-decoration-color: #00d7ff\">None</span>, <span style=\"color: #00af00; text-decoration-color: #00af00\">27</span>, <span style=\"color: #00af00; text-decoration-color: #00af00\">128</span>)        │             <span style=\"color: #00af00; text-decoration-color: #00af00\">0</span> │\n",
              "├─────────────────────────────────┼────────────────────────┼───────────────┤\n",
              "│ time_distributed                │ (<span style=\"color: #00d7ff; text-decoration-color: #00d7ff\">None</span>, <span style=\"color: #00af00; text-decoration-color: #00af00\">27</span>, <span style=\"color: #00af00; text-decoration-color: #00af00\">128</span>)        │        <span style=\"color: #00af00; text-decoration-color: #00af00\">16,512</span> │\n",
              "│ (<span style=\"color: #0087ff; text-decoration-color: #0087ff\">TimeDistributed</span>)               │                        │               │\n",
              "└─────────────────────────────────┴────────────────────────┴───────────────┘\n",
              "</pre>\n"
            ]
          },
          "metadata": {}
        },
        {
          "output_type": "display_data",
          "data": {
            "text/plain": [
              "\u001b[1m Total params: \u001b[0m\u001b[38;5;34m628,736\u001b[0m (2.40 MB)\n"
            ],
            "text/html": [
              "<pre style=\"white-space:pre;overflow-x:auto;line-height:normal;font-family:Menlo,'DejaVu Sans Mono',consolas,'Courier New',monospace\"><span style=\"font-weight: bold\"> Total params: </span><span style=\"color: #00af00; text-decoration-color: #00af00\">628,736</span> (2.40 MB)\n",
              "</pre>\n"
            ]
          },
          "metadata": {}
        },
        {
          "output_type": "display_data",
          "data": {
            "text/plain": [
              "\u001b[1m Trainable params: \u001b[0m\u001b[38;5;34m628,736\u001b[0m (2.40 MB)\n"
            ],
            "text/html": [
              "<pre style=\"white-space:pre;overflow-x:auto;line-height:normal;font-family:Menlo,'DejaVu Sans Mono',consolas,'Courier New',monospace\"><span style=\"font-weight: bold\"> Trainable params: </span><span style=\"color: #00af00; text-decoration-color: #00af00\">628,736</span> (2.40 MB)\n",
              "</pre>\n"
            ]
          },
          "metadata": {}
        },
        {
          "output_type": "display_data",
          "data": {
            "text/plain": [
              "\u001b[1m Non-trainable params: \u001b[0m\u001b[38;5;34m0\u001b[0m (0.00 B)\n"
            ],
            "text/html": [
              "<pre style=\"white-space:pre;overflow-x:auto;line-height:normal;font-family:Menlo,'DejaVu Sans Mono',consolas,'Courier New',monospace\"><span style=\"font-weight: bold\"> Non-trainable params: </span><span style=\"color: #00af00; text-decoration-color: #00af00\">0</span> (0.00 B)\n",
              "</pre>\n"
            ]
          },
          "metadata": {}
        }
      ]
    },
    {
      "cell_type": "code",
      "source": [
        "print(\"\\nVanilla GAN Discriminator Summary:\")\n",
        "discriminator_vanilla.summary()"
      ],
      "metadata": {
        "colab": {
          "base_uri": "https://localhost:8080/",
          "height": 309
        },
        "id": "K3hKzIK-Ck2m",
        "outputId": "83842baf-053a-4334-c2a0-bd3fddd3077a"
      },
      "execution_count": 15,
      "outputs": [
        {
          "output_type": "stream",
          "name": "stdout",
          "text": [
            "\n",
            "Vanilla GAN Discriminator Summary:\n"
          ]
        },
        {
          "output_type": "display_data",
          "data": {
            "text/plain": [
              "\u001b[1mModel: \"discriminator\"\u001b[0m\n"
            ],
            "text/html": [
              "<pre style=\"white-space:pre;overflow-x:auto;line-height:normal;font-family:Menlo,'DejaVu Sans Mono',consolas,'Courier New',monospace\"><span style=\"font-weight: bold\">Model: \"discriminator\"</span>\n",
              "</pre>\n"
            ]
          },
          "metadata": {}
        },
        {
          "output_type": "display_data",
          "data": {
            "text/plain": [
              "┏━━━━━━━━━━━━━━━━━━━━━━━━━━━━━━━━━┳━━━━━━━━━━━━━━━━━━━━━━━━┳━━━━━━━━━━━━━━━┓\n",
              "┃\u001b[1m \u001b[0m\u001b[1mLayer (type)                   \u001b[0m\u001b[1m \u001b[0m┃\u001b[1m \u001b[0m\u001b[1mOutput Shape          \u001b[0m\u001b[1m \u001b[0m┃\u001b[1m \u001b[0m\u001b[1m      Param #\u001b[0m\u001b[1m \u001b[0m┃\n",
              "┡━━━━━━━━━━━━━━━━━━━━━━━━━━━━━━━━━╇━━━━━━━━━━━━━━━━━━━━━━━━╇━━━━━━━━━━━━━━━┩\n",
              "│ embedded_sequence_input         │ (\u001b[38;5;45mNone\u001b[0m, \u001b[38;5;34m27\u001b[0m, \u001b[38;5;34m128\u001b[0m)        │             \u001b[38;5;34m0\u001b[0m │\n",
              "│ (\u001b[38;5;33mInputLayer\u001b[0m)                    │                        │               │\n",
              "├─────────────────────────────────┼────────────────────────┼───────────────┤\n",
              "│ lstm_2 (\u001b[38;5;33mLSTM\u001b[0m)                   │ (\u001b[38;5;45mNone\u001b[0m, \u001b[38;5;34m128\u001b[0m)            │       \u001b[38;5;34m131,584\u001b[0m │\n",
              "├─────────────────────────────────┼────────────────────────┼───────────────┤\n",
              "│ dropout_2 (\u001b[38;5;33mDropout\u001b[0m)             │ (\u001b[38;5;45mNone\u001b[0m, \u001b[38;5;34m128\u001b[0m)            │             \u001b[38;5;34m0\u001b[0m │\n",
              "├─────────────────────────────────┼────────────────────────┼───────────────┤\n",
              "│ dense_2 (\u001b[38;5;33mDense\u001b[0m)                 │ (\u001b[38;5;45mNone\u001b[0m, \u001b[38;5;34m1\u001b[0m)              │           \u001b[38;5;34m129\u001b[0m │\n",
              "└─────────────────────────────────┴────────────────────────┴───────────────┘\n"
            ],
            "text/html": [
              "<pre style=\"white-space:pre;overflow-x:auto;line-height:normal;font-family:Menlo,'DejaVu Sans Mono',consolas,'Courier New',monospace\">┏━━━━━━━━━━━━━━━━━━━━━━━━━━━━━━━━━┳━━━━━━━━━━━━━━━━━━━━━━━━┳━━━━━━━━━━━━━━━┓\n",
              "┃<span style=\"font-weight: bold\"> Layer (type)                    </span>┃<span style=\"font-weight: bold\"> Output Shape           </span>┃<span style=\"font-weight: bold\">       Param # </span>┃\n",
              "┡━━━━━━━━━━━━━━━━━━━━━━━━━━━━━━━━━╇━━━━━━━━━━━━━━━━━━━━━━━━╇━━━━━━━━━━━━━━━┩\n",
              "│ embedded_sequence_input         │ (<span style=\"color: #00d7ff; text-decoration-color: #00d7ff\">None</span>, <span style=\"color: #00af00; text-decoration-color: #00af00\">27</span>, <span style=\"color: #00af00; text-decoration-color: #00af00\">128</span>)        │             <span style=\"color: #00af00; text-decoration-color: #00af00\">0</span> │\n",
              "│ (<span style=\"color: #0087ff; text-decoration-color: #0087ff\">InputLayer</span>)                    │                        │               │\n",
              "├─────────────────────────────────┼────────────────────────┼───────────────┤\n",
              "│ lstm_2 (<span style=\"color: #0087ff; text-decoration-color: #0087ff\">LSTM</span>)                   │ (<span style=\"color: #00d7ff; text-decoration-color: #00d7ff\">None</span>, <span style=\"color: #00af00; text-decoration-color: #00af00\">128</span>)            │       <span style=\"color: #00af00; text-decoration-color: #00af00\">131,584</span> │\n",
              "├─────────────────────────────────┼────────────────────────┼───────────────┤\n",
              "│ dropout_2 (<span style=\"color: #0087ff; text-decoration-color: #0087ff\">Dropout</span>)             │ (<span style=\"color: #00d7ff; text-decoration-color: #00d7ff\">None</span>, <span style=\"color: #00af00; text-decoration-color: #00af00\">128</span>)            │             <span style=\"color: #00af00; text-decoration-color: #00af00\">0</span> │\n",
              "├─────────────────────────────────┼────────────────────────┼───────────────┤\n",
              "│ dense_2 (<span style=\"color: #0087ff; text-decoration-color: #0087ff\">Dense</span>)                 │ (<span style=\"color: #00d7ff; text-decoration-color: #00d7ff\">None</span>, <span style=\"color: #00af00; text-decoration-color: #00af00\">1</span>)              │           <span style=\"color: #00af00; text-decoration-color: #00af00\">129</span> │\n",
              "└─────────────────────────────────┴────────────────────────┴───────────────┘\n",
              "</pre>\n"
            ]
          },
          "metadata": {}
        },
        {
          "output_type": "display_data",
          "data": {
            "text/plain": [
              "\u001b[1m Total params: \u001b[0m\u001b[38;5;34m131,713\u001b[0m (514.50 KB)\n"
            ],
            "text/html": [
              "<pre style=\"white-space:pre;overflow-x:auto;line-height:normal;font-family:Menlo,'DejaVu Sans Mono',consolas,'Courier New',monospace\"><span style=\"font-weight: bold\"> Total params: </span><span style=\"color: #00af00; text-decoration-color: #00af00\">131,713</span> (514.50 KB)\n",
              "</pre>\n"
            ]
          },
          "metadata": {}
        },
        {
          "output_type": "display_data",
          "data": {
            "text/plain": [
              "\u001b[1m Trainable params: \u001b[0m\u001b[38;5;34m131,713\u001b[0m (514.50 KB)\n"
            ],
            "text/html": [
              "<pre style=\"white-space:pre;overflow-x:auto;line-height:normal;font-family:Menlo,'DejaVu Sans Mono',consolas,'Courier New',monospace\"><span style=\"font-weight: bold\"> Trainable params: </span><span style=\"color: #00af00; text-decoration-color: #00af00\">131,713</span> (514.50 KB)\n",
              "</pre>\n"
            ]
          },
          "metadata": {}
        },
        {
          "output_type": "display_data",
          "data": {
            "text/plain": [
              "\u001b[1m Non-trainable params: \u001b[0m\u001b[38;5;34m0\u001b[0m (0.00 B)\n"
            ],
            "text/html": [
              "<pre style=\"white-space:pre;overflow-x:auto;line-height:normal;font-family:Menlo,'DejaVu Sans Mono',consolas,'Courier New',monospace\"><span style=\"font-weight: bold\"> Non-trainable params: </span><span style=\"color: #00af00; text-decoration-color: #00af00\">0</span> (0.00 B)\n",
              "</pre>\n"
            ]
          },
          "metadata": {}
        }
      ]
    },
    {
      "cell_type": "code",
      "source": [
        "print(\"\\nWGAN-GP Generator Summary:\")\n",
        "generator_wgan.summary()"
      ],
      "metadata": {
        "colab": {
          "base_uri": "https://localhost:8080/",
          "height": 469
        },
        "id": "VmkDDQHICl8Z",
        "outputId": "db2aed2b-82a7-4478-c28f-e5e51b9ed7f2"
      },
      "execution_count": 16,
      "outputs": [
        {
          "output_type": "stream",
          "name": "stdout",
          "text": [
            "\n",
            "WGAN-GP Generator Summary:\n"
          ]
        },
        {
          "output_type": "display_data",
          "data": {
            "text/plain": [
              "\u001b[1mModel: \"generator\"\u001b[0m\n"
            ],
            "text/html": [
              "<pre style=\"white-space:pre;overflow-x:auto;line-height:normal;font-family:Menlo,'DejaVu Sans Mono',consolas,'Courier New',monospace\"><span style=\"font-weight: bold\">Model: \"generator\"</span>\n",
              "</pre>\n"
            ]
          },
          "metadata": {}
        },
        {
          "output_type": "display_data",
          "data": {
            "text/plain": [
              "┏━━━━━━━━━━━━━━━━━━━━━━━━━━━━━━━━━┳━━━━━━━━━━━━━━━━━━━━━━━━┳━━━━━━━━━━━━━━━┓\n",
              "┃\u001b[1m \u001b[0m\u001b[1mLayer (type)                   \u001b[0m\u001b[1m \u001b[0m┃\u001b[1m \u001b[0m\u001b[1mOutput Shape          \u001b[0m\u001b[1m \u001b[0m┃\u001b[1m \u001b[0m\u001b[1m      Param #\u001b[0m\u001b[1m \u001b[0m┃\n",
              "┡━━━━━━━━━━━━━━━━━━━━━━━━━━━━━━━━━╇━━━━━━━━━━━━━━━━━━━━━━━━╇━━━━━━━━━━━━━━━┩\n",
              "│ noise_input (\u001b[38;5;33mInputLayer\u001b[0m)        │ (\u001b[38;5;45mNone\u001b[0m, \u001b[38;5;34m100\u001b[0m)            │             \u001b[38;5;34m0\u001b[0m │\n",
              "├─────────────────────────────────┼────────────────────────┼───────────────┤\n",
              "│ dense_3 (\u001b[38;5;33mDense\u001b[0m)                 │ (\u001b[38;5;45mNone\u001b[0m, \u001b[38;5;34m3456\u001b[0m)           │       \u001b[38;5;34m349,056\u001b[0m │\n",
              "├─────────────────────────────────┼────────────────────────┼───────────────┤\n",
              "│ leaky_re_lu_1 (\u001b[38;5;33mLeakyReLU\u001b[0m)       │ (\u001b[38;5;45mNone\u001b[0m, \u001b[38;5;34m3456\u001b[0m)           │             \u001b[38;5;34m0\u001b[0m │\n",
              "├─────────────────────────────────┼────────────────────────┼───────────────┤\n",
              "│ reshape_1 (\u001b[38;5;33mReshape\u001b[0m)             │ (\u001b[38;5;45mNone\u001b[0m, \u001b[38;5;34m27\u001b[0m, \u001b[38;5;34m128\u001b[0m)        │             \u001b[38;5;34m0\u001b[0m │\n",
              "├─────────────────────────────────┼────────────────────────┼───────────────┤\n",
              "│ lstm_3 (\u001b[38;5;33mLSTM\u001b[0m)                   │ (\u001b[38;5;45mNone\u001b[0m, \u001b[38;5;34m27\u001b[0m, \u001b[38;5;34m128\u001b[0m)        │       \u001b[38;5;34m131,584\u001b[0m │\n",
              "├─────────────────────────────────┼────────────────────────┼───────────────┤\n",
              "│ dropout_3 (\u001b[38;5;33mDropout\u001b[0m)             │ (\u001b[38;5;45mNone\u001b[0m, \u001b[38;5;34m27\u001b[0m, \u001b[38;5;34m128\u001b[0m)        │             \u001b[38;5;34m0\u001b[0m │\n",
              "├─────────────────────────────────┼────────────────────────┼───────────────┤\n",
              "│ lstm_4 (\u001b[38;5;33mLSTM\u001b[0m)                   │ (\u001b[38;5;45mNone\u001b[0m, \u001b[38;5;34m27\u001b[0m, \u001b[38;5;34m128\u001b[0m)        │       \u001b[38;5;34m131,584\u001b[0m │\n",
              "├─────────────────────────────────┼────────────────────────┼───────────────┤\n",
              "│ dropout_4 (\u001b[38;5;33mDropout\u001b[0m)             │ (\u001b[38;5;45mNone\u001b[0m, \u001b[38;5;34m27\u001b[0m, \u001b[38;5;34m128\u001b[0m)        │             \u001b[38;5;34m0\u001b[0m │\n",
              "├─────────────────────────────────┼────────────────────────┼───────────────┤\n",
              "│ time_distributed_1              │ (\u001b[38;5;45mNone\u001b[0m, \u001b[38;5;34m27\u001b[0m, \u001b[38;5;34m128\u001b[0m)        │        \u001b[38;5;34m16,512\u001b[0m │\n",
              "│ (\u001b[38;5;33mTimeDistributed\u001b[0m)               │                        │               │\n",
              "└─────────────────────────────────┴────────────────────────┴───────────────┘\n"
            ],
            "text/html": [
              "<pre style=\"white-space:pre;overflow-x:auto;line-height:normal;font-family:Menlo,'DejaVu Sans Mono',consolas,'Courier New',monospace\">┏━━━━━━━━━━━━━━━━━━━━━━━━━━━━━━━━━┳━━━━━━━━━━━━━━━━━━━━━━━━┳━━━━━━━━━━━━━━━┓\n",
              "┃<span style=\"font-weight: bold\"> Layer (type)                    </span>┃<span style=\"font-weight: bold\"> Output Shape           </span>┃<span style=\"font-weight: bold\">       Param # </span>┃\n",
              "┡━━━━━━━━━━━━━━━━━━━━━━━━━━━━━━━━━╇━━━━━━━━━━━━━━━━━━━━━━━━╇━━━━━━━━━━━━━━━┩\n",
              "│ noise_input (<span style=\"color: #0087ff; text-decoration-color: #0087ff\">InputLayer</span>)        │ (<span style=\"color: #00d7ff; text-decoration-color: #00d7ff\">None</span>, <span style=\"color: #00af00; text-decoration-color: #00af00\">100</span>)            │             <span style=\"color: #00af00; text-decoration-color: #00af00\">0</span> │\n",
              "├─────────────────────────────────┼────────────────────────┼───────────────┤\n",
              "│ dense_3 (<span style=\"color: #0087ff; text-decoration-color: #0087ff\">Dense</span>)                 │ (<span style=\"color: #00d7ff; text-decoration-color: #00d7ff\">None</span>, <span style=\"color: #00af00; text-decoration-color: #00af00\">3456</span>)           │       <span style=\"color: #00af00; text-decoration-color: #00af00\">349,056</span> │\n",
              "├─────────────────────────────────┼────────────────────────┼───────────────┤\n",
              "│ leaky_re_lu_1 (<span style=\"color: #0087ff; text-decoration-color: #0087ff\">LeakyReLU</span>)       │ (<span style=\"color: #00d7ff; text-decoration-color: #00d7ff\">None</span>, <span style=\"color: #00af00; text-decoration-color: #00af00\">3456</span>)           │             <span style=\"color: #00af00; text-decoration-color: #00af00\">0</span> │\n",
              "├─────────────────────────────────┼────────────────────────┼───────────────┤\n",
              "│ reshape_1 (<span style=\"color: #0087ff; text-decoration-color: #0087ff\">Reshape</span>)             │ (<span style=\"color: #00d7ff; text-decoration-color: #00d7ff\">None</span>, <span style=\"color: #00af00; text-decoration-color: #00af00\">27</span>, <span style=\"color: #00af00; text-decoration-color: #00af00\">128</span>)        │             <span style=\"color: #00af00; text-decoration-color: #00af00\">0</span> │\n",
              "├─────────────────────────────────┼────────────────────────┼───────────────┤\n",
              "│ lstm_3 (<span style=\"color: #0087ff; text-decoration-color: #0087ff\">LSTM</span>)                   │ (<span style=\"color: #00d7ff; text-decoration-color: #00d7ff\">None</span>, <span style=\"color: #00af00; text-decoration-color: #00af00\">27</span>, <span style=\"color: #00af00; text-decoration-color: #00af00\">128</span>)        │       <span style=\"color: #00af00; text-decoration-color: #00af00\">131,584</span> │\n",
              "├─────────────────────────────────┼────────────────────────┼───────────────┤\n",
              "│ dropout_3 (<span style=\"color: #0087ff; text-decoration-color: #0087ff\">Dropout</span>)             │ (<span style=\"color: #00d7ff; text-decoration-color: #00d7ff\">None</span>, <span style=\"color: #00af00; text-decoration-color: #00af00\">27</span>, <span style=\"color: #00af00; text-decoration-color: #00af00\">128</span>)        │             <span style=\"color: #00af00; text-decoration-color: #00af00\">0</span> │\n",
              "├─────────────────────────────────┼────────────────────────┼───────────────┤\n",
              "│ lstm_4 (<span style=\"color: #0087ff; text-decoration-color: #0087ff\">LSTM</span>)                   │ (<span style=\"color: #00d7ff; text-decoration-color: #00d7ff\">None</span>, <span style=\"color: #00af00; text-decoration-color: #00af00\">27</span>, <span style=\"color: #00af00; text-decoration-color: #00af00\">128</span>)        │       <span style=\"color: #00af00; text-decoration-color: #00af00\">131,584</span> │\n",
              "├─────────────────────────────────┼────────────────────────┼───────────────┤\n",
              "│ dropout_4 (<span style=\"color: #0087ff; text-decoration-color: #0087ff\">Dropout</span>)             │ (<span style=\"color: #00d7ff; text-decoration-color: #00d7ff\">None</span>, <span style=\"color: #00af00; text-decoration-color: #00af00\">27</span>, <span style=\"color: #00af00; text-decoration-color: #00af00\">128</span>)        │             <span style=\"color: #00af00; text-decoration-color: #00af00\">0</span> │\n",
              "├─────────────────────────────────┼────────────────────────┼───────────────┤\n",
              "│ time_distributed_1              │ (<span style=\"color: #00d7ff; text-decoration-color: #00d7ff\">None</span>, <span style=\"color: #00af00; text-decoration-color: #00af00\">27</span>, <span style=\"color: #00af00; text-decoration-color: #00af00\">128</span>)        │        <span style=\"color: #00af00; text-decoration-color: #00af00\">16,512</span> │\n",
              "│ (<span style=\"color: #0087ff; text-decoration-color: #0087ff\">TimeDistributed</span>)               │                        │               │\n",
              "└─────────────────────────────────┴────────────────────────┴───────────────┘\n",
              "</pre>\n"
            ]
          },
          "metadata": {}
        },
        {
          "output_type": "display_data",
          "data": {
            "text/plain": [
              "\u001b[1m Total params: \u001b[0m\u001b[38;5;34m628,736\u001b[0m (2.40 MB)\n"
            ],
            "text/html": [
              "<pre style=\"white-space:pre;overflow-x:auto;line-height:normal;font-family:Menlo,'DejaVu Sans Mono',consolas,'Courier New',monospace\"><span style=\"font-weight: bold\"> Total params: </span><span style=\"color: #00af00; text-decoration-color: #00af00\">628,736</span> (2.40 MB)\n",
              "</pre>\n"
            ]
          },
          "metadata": {}
        },
        {
          "output_type": "display_data",
          "data": {
            "text/plain": [
              "\u001b[1m Trainable params: \u001b[0m\u001b[38;5;34m628,736\u001b[0m (2.40 MB)\n"
            ],
            "text/html": [
              "<pre style=\"white-space:pre;overflow-x:auto;line-height:normal;font-family:Menlo,'DejaVu Sans Mono',consolas,'Courier New',monospace\"><span style=\"font-weight: bold\"> Trainable params: </span><span style=\"color: #00af00; text-decoration-color: #00af00\">628,736</span> (2.40 MB)\n",
              "</pre>\n"
            ]
          },
          "metadata": {}
        },
        {
          "output_type": "display_data",
          "data": {
            "text/plain": [
              "\u001b[1m Non-trainable params: \u001b[0m\u001b[38;5;34m0\u001b[0m (0.00 B)\n"
            ],
            "text/html": [
              "<pre style=\"white-space:pre;overflow-x:auto;line-height:normal;font-family:Menlo,'DejaVu Sans Mono',consolas,'Courier New',monospace\"><span style=\"font-weight: bold\"> Non-trainable params: </span><span style=\"color: #00af00; text-decoration-color: #00af00\">0</span> (0.00 B)\n",
              "</pre>\n"
            ]
          },
          "metadata": {}
        }
      ]
    },
    {
      "cell_type": "code",
      "source": [
        "print(\"\\nWGAN-GP Critic Summary:\")\n",
        "critic_wgan.summary()"
      ],
      "metadata": {
        "colab": {
          "base_uri": "https://localhost:8080/",
          "height": 309
        },
        "id": "cugqVSEKCwle",
        "outputId": "1a956e8f-a9f4-4b7d-da79-036c6bc8c70f"
      },
      "execution_count": 17,
      "outputs": [
        {
          "output_type": "stream",
          "name": "stdout",
          "text": [
            "\n",
            "WGAN-GP Critic Summary:\n"
          ]
        },
        {
          "output_type": "display_data",
          "data": {
            "text/plain": [
              "\u001b[1mModel: \"critic\"\u001b[0m\n"
            ],
            "text/html": [
              "<pre style=\"white-space:pre;overflow-x:auto;line-height:normal;font-family:Menlo,'DejaVu Sans Mono',consolas,'Courier New',monospace\"><span style=\"font-weight: bold\">Model: \"critic\"</span>\n",
              "</pre>\n"
            ]
          },
          "metadata": {}
        },
        {
          "output_type": "display_data",
          "data": {
            "text/plain": [
              "┏━━━━━━━━━━━━━━━━━━━━━━━━━━━━━━━━━┳━━━━━━━━━━━━━━━━━━━━━━━━┳━━━━━━━━━━━━━━━┓\n",
              "┃\u001b[1m \u001b[0m\u001b[1mLayer (type)                   \u001b[0m\u001b[1m \u001b[0m┃\u001b[1m \u001b[0m\u001b[1mOutput Shape          \u001b[0m\u001b[1m \u001b[0m┃\u001b[1m \u001b[0m\u001b[1m      Param #\u001b[0m\u001b[1m \u001b[0m┃\n",
              "┡━━━━━━━━━━━━━━━━━━━━━━━━━━━━━━━━━╇━━━━━━━━━━━━━━━━━━━━━━━━╇━━━━━━━━━━━━━━━┩\n",
              "│ embedded_sequence_input         │ (\u001b[38;5;45mNone\u001b[0m, \u001b[38;5;34m27\u001b[0m, \u001b[38;5;34m128\u001b[0m)        │             \u001b[38;5;34m0\u001b[0m │\n",
              "│ (\u001b[38;5;33mInputLayer\u001b[0m)                    │                        │               │\n",
              "├─────────────────────────────────┼────────────────────────┼───────────────┤\n",
              "│ lstm_5 (\u001b[38;5;33mLSTM\u001b[0m)                   │ (\u001b[38;5;45mNone\u001b[0m, \u001b[38;5;34m128\u001b[0m)            │       \u001b[38;5;34m131,584\u001b[0m │\n",
              "├─────────────────────────────────┼────────────────────────┼───────────────┤\n",
              "│ dropout_5 (\u001b[38;5;33mDropout\u001b[0m)             │ (\u001b[38;5;45mNone\u001b[0m, \u001b[38;5;34m128\u001b[0m)            │             \u001b[38;5;34m0\u001b[0m │\n",
              "├─────────────────────────────────┼────────────────────────┼───────────────┤\n",
              "│ dense_5 (\u001b[38;5;33mDense\u001b[0m)                 │ (\u001b[38;5;45mNone\u001b[0m, \u001b[38;5;34m1\u001b[0m)              │           \u001b[38;5;34m129\u001b[0m │\n",
              "└─────────────────────────────────┴────────────────────────┴───────────────┘\n"
            ],
            "text/html": [
              "<pre style=\"white-space:pre;overflow-x:auto;line-height:normal;font-family:Menlo,'DejaVu Sans Mono',consolas,'Courier New',monospace\">┏━━━━━━━━━━━━━━━━━━━━━━━━━━━━━━━━━┳━━━━━━━━━━━━━━━━━━━━━━━━┳━━━━━━━━━━━━━━━┓\n",
              "┃<span style=\"font-weight: bold\"> Layer (type)                    </span>┃<span style=\"font-weight: bold\"> Output Shape           </span>┃<span style=\"font-weight: bold\">       Param # </span>┃\n",
              "┡━━━━━━━━━━━━━━━━━━━━━━━━━━━━━━━━━╇━━━━━━━━━━━━━━━━━━━━━━━━╇━━━━━━━━━━━━━━━┩\n",
              "│ embedded_sequence_input         │ (<span style=\"color: #00d7ff; text-decoration-color: #00d7ff\">None</span>, <span style=\"color: #00af00; text-decoration-color: #00af00\">27</span>, <span style=\"color: #00af00; text-decoration-color: #00af00\">128</span>)        │             <span style=\"color: #00af00; text-decoration-color: #00af00\">0</span> │\n",
              "│ (<span style=\"color: #0087ff; text-decoration-color: #0087ff\">InputLayer</span>)                    │                        │               │\n",
              "├─────────────────────────────────┼────────────────────────┼───────────────┤\n",
              "│ lstm_5 (<span style=\"color: #0087ff; text-decoration-color: #0087ff\">LSTM</span>)                   │ (<span style=\"color: #00d7ff; text-decoration-color: #00d7ff\">None</span>, <span style=\"color: #00af00; text-decoration-color: #00af00\">128</span>)            │       <span style=\"color: #00af00; text-decoration-color: #00af00\">131,584</span> │\n",
              "├─────────────────────────────────┼────────────────────────┼───────────────┤\n",
              "│ dropout_5 (<span style=\"color: #0087ff; text-decoration-color: #0087ff\">Dropout</span>)             │ (<span style=\"color: #00d7ff; text-decoration-color: #00d7ff\">None</span>, <span style=\"color: #00af00; text-decoration-color: #00af00\">128</span>)            │             <span style=\"color: #00af00; text-decoration-color: #00af00\">0</span> │\n",
              "├─────────────────────────────────┼────────────────────────┼───────────────┤\n",
              "│ dense_5 (<span style=\"color: #0087ff; text-decoration-color: #0087ff\">Dense</span>)                 │ (<span style=\"color: #00d7ff; text-decoration-color: #00d7ff\">None</span>, <span style=\"color: #00af00; text-decoration-color: #00af00\">1</span>)              │           <span style=\"color: #00af00; text-decoration-color: #00af00\">129</span> │\n",
              "└─────────────────────────────────┴────────────────────────┴───────────────┘\n",
              "</pre>\n"
            ]
          },
          "metadata": {}
        },
        {
          "output_type": "display_data",
          "data": {
            "text/plain": [
              "\u001b[1m Total params: \u001b[0m\u001b[38;5;34m131,713\u001b[0m (514.50 KB)\n"
            ],
            "text/html": [
              "<pre style=\"white-space:pre;overflow-x:auto;line-height:normal;font-family:Menlo,'DejaVu Sans Mono',consolas,'Courier New',monospace\"><span style=\"font-weight: bold\"> Total params: </span><span style=\"color: #00af00; text-decoration-color: #00af00\">131,713</span> (514.50 KB)\n",
              "</pre>\n"
            ]
          },
          "metadata": {}
        },
        {
          "output_type": "display_data",
          "data": {
            "text/plain": [
              "\u001b[1m Trainable params: \u001b[0m\u001b[38;5;34m131,713\u001b[0m (514.50 KB)\n"
            ],
            "text/html": [
              "<pre style=\"white-space:pre;overflow-x:auto;line-height:normal;font-family:Menlo,'DejaVu Sans Mono',consolas,'Courier New',monospace\"><span style=\"font-weight: bold\"> Trainable params: </span><span style=\"color: #00af00; text-decoration-color: #00af00\">131,713</span> (514.50 KB)\n",
              "</pre>\n"
            ]
          },
          "metadata": {}
        },
        {
          "output_type": "display_data",
          "data": {
            "text/plain": [
              "\u001b[1m Non-trainable params: \u001b[0m\u001b[38;5;34m0\u001b[0m (0.00 B)\n"
            ],
            "text/html": [
              "<pre style=\"white-space:pre;overflow-x:auto;line-height:normal;font-family:Menlo,'DejaVu Sans Mono',consolas,'Courier New',monospace\"><span style=\"font-weight: bold\"> Non-trainable params: </span><span style=\"color: #00af00; text-decoration-color: #00af00\">0</span> (0.00 B)\n",
              "</pre>\n"
            ]
          },
          "metadata": {}
        }
      ]
    },
    {
      "cell_type": "code",
      "execution_count": 18,
      "metadata": {
        "colab": {
          "base_uri": "https://localhost:8080/"
        },
        "id": "ZeVhqWjUuvC3",
        "outputId": "b76add00-902d-4d10-f2b8-abb801b2e042"
      },
      "outputs": [
        {
          "output_type": "stream",
          "name": "stdout",
          "text": [
            "Optimizers defined for both GAN variants.\n"
          ]
        }
      ],
      "source": [
        "# Optimizers\n",
        "discriminator_optimizer_vanilla = tf.keras.optimizers.Adam(learning_rate=0.0002, beta_1=0.5)\n",
        "generator_optimizer_vanilla = tf.keras.optimizers.Adam(learning_rate=0.0002, beta_1=0.5)\n",
        "critic_optimizer_wgan = tf.keras.optimizers.Adam(learning_rate=0.0001, beta_1=0.5, beta_2=0.9)\n",
        "generator_optimizer_wgan = tf.keras.optimizers.Adam(learning_rate=0.0001, beta_1=0.5, beta_2=0.9)\n",
        "print(\"Optimizers defined for both GAN variants.\")"
      ]
    },
    {
      "cell_type": "code",
      "execution_count": 19,
      "metadata": {
        "colab": {
          "base_uri": "https://localhost:8080/"
        },
        "id": "hwG8F2apA0ta",
        "outputId": "a84c3ecb-78ca-47b0-8fd4-ee7771e1b98f"
      },
      "outputs": [
        {
          "output_type": "stream",
          "name": "stdout",
          "text": [
            "Loss functions for Vanilla GAN defined.\n"
          ]
        }
      ],
      "source": [
        "\n",
        "# Loss for Vanilla GAN: Binary Cross-Entropy\n",
        "cross_entropy = tf.keras.losses.BinaryCrossentropy(from_logits=False)\n",
        "\n",
        "def discriminator_loss_vanilla(real_output, fake_output):\n",
        "    real_loss = cross_entropy(tf.ones_like(real_output), real_output)\n",
        "    fake_loss = cross_entropy(tf.zeros_like(fake_output), fake_output)\n",
        "    total_loss = real_loss + fake_loss\n",
        "    return total_loss\n",
        "\n",
        "def generator_loss_vanilla(fake_output):\n",
        "    return cross_entropy(tf.ones_like(fake_output), fake_output)\n",
        "print(\"Loss functions for Vanilla GAN defined.\")"
      ]
    },
    {
      "cell_type": "code",
      "execution_count": 20,
      "metadata": {
        "colab": {
          "base_uri": "https://localhost:8080/"
        },
        "id": "8YgR_lPoA6x6",
        "outputId": "8a07b549-1db4-44bd-f650-104e405f883c"
      },
      "outputs": [
        {
          "output_type": "stream",
          "name": "stdout",
          "text": [
            "Loss functions and Gradient Penalty for WGAN-GP defined.\n"
          ]
        }
      ],
      "source": [
        "# Loss for WGAN-GP: Wasserstein Loss + Gradient Penalty\n",
        "LAMBDA = 10\n",
        "\n",
        "def discriminator_loss_wgan(real_output, fake_output):\n",
        "    return tf.reduce_mean(fake_output) - tf.reduce_mean(real_output)\n",
        "\n",
        "def generator_loss_wgan(fake_output):\n",
        "    return -tf.reduce_mean(fake_output)\n",
        "\n",
        "def gradient_penalty(critic_model, real_sequences_batch, fake_embeddings_batch, shared_embedding_layer):\n",
        "    \"\"\"\n",
        "    Calculates the gradient penalty for WGAN-GP.\n",
        "    This term enforces the 1-Lipschitz constraint on the Critic.\n",
        "    \"\"\"\n",
        "    # Get the actual batch size for this batch\n",
        "    current_batch_size = tf.shape(real_sequences_batch)[0]\n",
        "\n",
        "    # Generate alpha with the correct batch size\n",
        "    alpha = tf.random.uniform([current_batch_size, 1, 1], 0., 1.)\n",
        "\n",
        "    real_embeddings_batch = shared_embedding_layer(real_sequences_batch)\n",
        "\n",
        "\n",
        "    fake_embeddings_batch_sliced = fake_embeddings_batch[:current_batch_size]\n",
        "\n",
        "\n",
        "    interpolated_embeddings = (alpha * real_embeddings_batch) + ((1 - alpha) * fake_embeddings_batch_sliced)\n",
        "\n",
        "    with tf.GradientTape() as gp_tape:\n",
        "        gp_tape.watch(interpolated_embeddings)\n",
        "        interpolated_output = critic_model(interpolated_embeddings, training=True)\n",
        "\n",
        "    gp_gradients = gp_tape.gradient(interpolated_output, interpolated_embeddings)\n",
        "    gp_gradients_norm = tf.norm(gp_gradients, axis=[1, 2])\n",
        "    gp = tf.reduce_mean((gp_gradients_norm - 1)**2)\n",
        "    return gp\n",
        "print(\"Loss functions and Gradient Penalty for WGAN-GP defined.\")"
      ]
    },
    {
      "cell_type": "code",
      "execution_count": 21,
      "metadata": {
        "id": "K3ALiQNtPlVL"
      },
      "outputs": [],
      "source": [
        "# --- Helper Function to Generate and Save Samples ---\n",
        "def generate_and_save_samples(model, epoch, noise_dim, max_seq_length, index_word_map, gan_type, vocab_size, shared_embedding_layer):\n",
        "    \"\"\"\n",
        "    Generates sample text from the GAN and prints/saves them.\n",
        "    Assumes the generator outputs continuous embeddings.\n",
        "    A temporary projection layer is used to convert embeddings to vocabulary logits for sampling.\n",
        "    \"\"\"\n",
        "    # Generate 5 samples for visualization\n",
        "    noise = tf.random.normal([5, noise_dim])\n",
        "    generated_embeddings = model(noise, training=False)\n",
        "\n",
        "    # Create a temporary projection layer to convert embeddings back to vocabulary logits\n",
        "    temp_projection_layer = layers.TimeDistributed(layers.Dense(vocab_size, activation='softmax'))\n",
        "\n",
        "    # Build a dummy model to apply this layer. The input shape should match\n",
        "    dummy_input = layers.Input(shape=(max_seq_length, generated_embeddings.shape[-1]))\n",
        "    dummy_output = temp_projection_layer(dummy_input)\n",
        "    temp_projector_model = models.Model(dummy_input, dummy_output)\n",
        "\n",
        "    # Get probabilities over vocab for each time step\n",
        "    vocab_probabilities = temp_projector_model(generated_embeddings)\n",
        "    # Get the most probable word ID for each time step\n",
        "    generated_sequences = tf.argmax(vocab_probabilities, axis=-1).numpy()\n",
        "\n",
        "    print(f\"\\n--- {gan_type} Generated Samples (Epoch {epoch}) ---\")\n",
        "    for i in range(5):\n",
        "        # Convert sequence of IDs back to text, filtering out padding\n",
        "        # Use index_word_map directly, it should handle 0 as <pad>\n",
        "        sample_text = ' '.join([index_word_map.get(idx, '<unk>') for idx in generated_sequences[i] if idx != 0])\n",
        "        print(f\"Sample {i+1}: {sample_text}\")\n",
        "    print(\"-------------------------------------------\\n\")"
      ]
    },
    {
      "cell_type": "code",
      "execution_count": 22,
      "metadata": {
        "id": "V1Uy14eCCHe4"
      },
      "outputs": [],
      "source": [
        "# --- Custom Training Step for Vanilla GAN ---\n",
        "@tf.function\n",
        "def train_step_vanilla_gan(real_data_batch_sequences):\n",
        "    # Convert real data integer sequences to embeddings using the shared layer\n",
        "    real_embeddings_batch = shared_embedding_layer(real_data_batch_sequences)\n",
        "\n",
        "    # --- Train Discriminator ---\n",
        "    # Get the actual batch size for this batch\n",
        "    current_batch_size = tf.shape(real_data_batch_sequences)[0]\n",
        "    noise = tf.random.normal([current_batch_size, NOISE_DIM]) # Generate noise with actual batch size\n",
        "\n",
        "    with tf.GradientTape() as d_tape:\n",
        "        # Generate fake embeddings using the generator\n",
        "        fake_embeddings = generator_vanilla(noise, training=True)\n",
        "\n",
        "        # Get discriminator's output for real and fake embeddings\n",
        "        real_output = discriminator_vanilla(real_embeddings_batch, training=True)\n",
        "        fake_output = discriminator_vanilla(fake_embeddings, training=True)\n",
        "\n",
        "        # Calculate discriminator loss\n",
        "        d_loss = discriminator_loss_vanilla(real_output, fake_output)\n",
        "\n",
        "    # Compute and apply gradients for the discriminator\n",
        "    d_gradients = d_tape.gradient(d_loss, discriminator_vanilla.trainable_variables)\n",
        "    discriminator_optimizer_vanilla.apply_gradients(zip(d_gradients, discriminator_vanilla.trainable_variables))\n",
        "\n",
        "    # --- Train Generator ---\n",
        "    # Generate noise again for the generator step with the actual batch size\n",
        "    noise = tf.random.normal([current_batch_size, NOISE_DIM])\n",
        "    with tf.GradientTape() as g_tape:\n",
        "        # Generate fake embeddings\n",
        "        fake_embeddings = generator_vanilla(noise, training=True)\n",
        "        # Get discriminator's output for fake embeddings (from generator's perspective)\n",
        "        fake_output = discriminator_vanilla(fake_embeddings, training=True)\n",
        "\n",
        "        # Calculate generator loss\n",
        "        g_loss = generator_loss_vanilla(fake_output)\n",
        "\n",
        "    # Compute and apply gradients for the generator\n",
        "    g_gradients = g_tape.gradient(g_loss, generator_vanilla.trainable_variables)\n",
        "    generator_optimizer_vanilla.apply_gradients(zip(g_gradients, generator_vanilla.trainable_variables))\n",
        "\n",
        "    return d_loss, g_loss"
      ]
    },
    {
      "cell_type": "code",
      "execution_count": 23,
      "metadata": {
        "id": "oqenxdI-CARK"
      },
      "outputs": [],
      "source": [
        "# --- Custom Training Step for WGAN-GP ---\n",
        "@tf.function\n",
        "def train_step_wgan(real_data_batch_sequences): # Takes integer sequences from train_dataset\n",
        "    # Get the actual batch size for this batch\n",
        "    current_batch_size = tf.shape(real_data_batch_sequences)[0]\n",
        "\n",
        "    # Convert real data integer sequences to embeddings using the shared layer\n",
        "    real_embeddings_batch = shared_embedding_layer(real_data_batch_sequences)\n",
        "\n",
        "    # --- Train Critic (Discriminator for WGAN-GP) ---\n",
        "    # It's common to train the critic more steps than the generator\n",
        "    for _ in range(5):\n",
        "        # Generate noise with the actual batch size\n",
        "        noise = tf.random.normal([current_batch_size, NOISE_DIM])\n",
        "        with tf.GradientTape() as critic_tape:\n",
        "            fake_embeddings = generator_wgan(noise, training=True)\n",
        "\n",
        "            real_output = critic_wgan(real_embeddings_batch, training=True)\n",
        "            fake_output = critic_wgan(fake_embeddings, training=True)\n",
        "\n",
        "            c_loss = discriminator_loss_wgan(real_output, fake_output)\n",
        "            # Calculate gradient penalty\n",
        "            gp = gradient_penalty(critic_wgan, real_data_batch_sequences, fake_embeddings, shared_embedding_layer)\n",
        "            total_critic_loss = c_loss + LAMBDA * gp\n",
        "\n",
        "        critic_gradients = critic_tape.gradient(total_critic_loss, critic_wgan.trainable_variables)\n",
        "        critic_optimizer_wgan.apply_gradients(zip(critic_gradients, critic_wgan.trainable_variables))\n",
        "\n",
        "    # --- Train Generator ---\n",
        "    # Generate noise again for the generator step with the actual batch size\n",
        "    noise = tf.random.normal([current_batch_size, NOISE_DIM])\n",
        "    with tf.GradientTape() as generator_tape:\n",
        "        fake_embeddings = generator_wgan(noise, training=True)\n",
        "        fake_output = critic_wgan(fake_embeddings, training=True)\n",
        "        g_loss = generator_loss_wgan(fake_output)\n",
        "\n",
        "    generator_gradients = generator_tape.gradient(g_loss, generator_wgan.trainable_variables)\n",
        "    generator_optimizer_wgan.apply_gradients(zip(generator_gradients, generator_wgan.trainable_variables))\n",
        "\n",
        "    return total_critic_loss, g_loss\n"
      ]
    },
    {
      "cell_type": "code",
      "execution_count": 24,
      "metadata": {
        "colab": {
          "base_uri": "https://localhost:8080/"
        },
        "id": "ucNNQSstCiSR",
        "outputId": "0aed07ed-0dbb-4fad-cfa5-99afce80a295"
      },
      "outputs": [
        {
          "output_type": "stream",
          "name": "stdout",
          "text": [
            "\n",
            "--- Starting Training for Basic Text GAN (Vanilla) ---\n",
            "Vanilla GAN - Epoch 0/100 | D Loss: 1.4965 | G Loss: 0.6135\n",
            "\n",
            "--- Vanilla_GAN Generated Samples (Epoch 0) ---\n",
            "Sample 1: wither wining smashed smashed hubbys smashed we wining wining wining wining wining wining prcvd prcvd prcvd prcvd prcvd prcvd prcvd polytruepixringtonesgames prcvd polytruepixringtonesgames polytruepixringtonesgames polytruepixringtonesgames polytruepixringtonesgames polytruepixringtonesgames\n",
            "Sample 2: hubbys da cdgt cdgt cdgt birthday prcvd prcvd prcvd prcvd polytruepixringtonesgames prcvd prcvd prcvd prcvd prcvd prcvd prcvd prcvd prcvd prcvd prcvd prcvd polytruepixringtonesgames polytruepixringtonesgames polytruepixringtonesgames polytruepixringtonesgames\n",
            "Sample 3: smashed each each each each each hubbys new new hubbys prcvd prcvd prcvd prcvd prcvd prcvd prcvd wining wining polytruepixringtonesgames polytruepixringtonesgames polytruepixringtonesgames polytruepixringtonesgames polytruepixringtonesgames polytruepixringtonesgames polytruepixringtonesgames polytruepixringtonesgames\n",
            "Sample 4: prcvd wining wining wining wining charges hubbys hubbys hubbys hubbys hubbys genuine genuine genuine genuine hubbys polytruepixringtonesgames polytruepixringtonesgames polytruepixringtonesgames polytruepixringtonesgames polytruepixringtonesgames polytruepixringtonesgames polytruepixringtonesgames polytruepixringtonesgames polytruepixringtonesgames polytruepixringtonesgames polytruepixringtonesgames\n",
            "Sample 5: notice romcapspam notice wining ripped wining ripped ripped ripped ripped ripped ripped ripped ripped wining wining wining wining wining wining polytruepixringtonesgames polytruepixringtonesgames polytruepixringtonesgames polytruepixringtonesgames polytruepixringtonesgames polytruepixringtonesgames polytruepixringtonesgames\n",
            "-------------------------------------------\n",
            "\n"
          ]
        }
      ],
      "source": [
        "# --- Training Execution ---\n",
        "EPOCHS = 100 # Number of training epochs. Start lower (e.g., 1000) for initial tests.\n",
        "SAMPLE_INTERVAL = 500 # How often to generate and save samples and report progress\n",
        "\n",
        "# Create a directory to save generated samples\n",
        "os.makedirs('generated_samples', exist_ok=True)\n",
        "\n",
        "# --- Vanilla GAN Training ---\n",
        "print(\"\\n--- Starting Training for Basic Text GAN (Vanilla) ---\")\n",
        "vanilla_d_losses, vanilla_g_losses = [], []\n",
        "\n",
        "# Re-instantiate models to ensure clean weights for training.\n",
        "# This is crucial if you run the code in segments or re-run this block.\n",
        "generator_vanilla = build_generator_continuous_output(VOCAB_SIZE, EMBEDDING_DIM, max_sequence_length, NOISE_DIM)\n",
        "discriminator_vanilla = build_discriminator_continuous_input(EMBEDDING_DIM, max_sequence_length)\n",
        "\n",
        "# Re-define optimizers for Vanilla GAN\n",
        "discriminator_optimizer_vanilla = tf.keras.optimizers.Adam(learning_rate=0.0002, beta_1=0.5)\n",
        "generator_optimizer_vanilla = tf.keras.optimizers.Adam(learning_rate=0.0002, beta_1=0.5)\n",
        "\n",
        "\n",
        "for epoch in range(EPOCHS):\n",
        "    for i, batch_sequences in enumerate(train_dataset):\n",
        "        d_loss, g_loss = train_step_vanilla_gan(batch_sequences)\n",
        "\n",
        "    vanilla_d_losses.append(d_loss.numpy().mean())\n",
        "    vanilla_g_losses.append(g_loss.numpy().mean())\n",
        "\n",
        "    if epoch % SAMPLE_INTERVAL == 0:\n",
        "        print(f\"Vanilla GAN - Epoch {epoch}/{EPOCHS} | D Loss: {vanilla_d_losses[-1]:.4f} | G Loss: {vanilla_g_losses[-1]:.4f}\")\n",
        "        # Generate p and save sample text\n",
        "        generate_and_save_samples(generator_vanilla, epoch, NOISE_DIM, max_sequence_length, index_word, \"Vanilla_GAN\", VOCAB_SIZE, shared_embedding_layer)\n"
      ]
    },
    {
      "cell_type": "code",
      "execution_count": 26,
      "metadata": {
        "id": "u3Kdhz6NCtXw",
        "colab": {
          "base_uri": "https://localhost:8080/"
        },
        "outputId": "8fc8ba7e-d564-479c-9494-51328f4b005c"
      },
      "outputs": [
        {
          "output_type": "stream",
          "name": "stdout",
          "text": [
            "\n",
            "--- Starting Training for WGAN-GP ---\n",
            "WGAN-GP - Epoch 0/100 | Critic Loss: -0.0736 | G Loss: 0.5744\n",
            "\n",
            "--- WGAN_GP Generated Samples (Epoch 0) ---\n",
            "Sample 1: da da popcornjust europe shracomorsglsuplt cute cute inc inc inc tnc men men men men men laid laid laid laid laid laid laid men men twinks twinks\n",
            "Sample 2: prizeswith eyeddont eyeddont bbdeluxe whose whose whose whose whose men men men men men men men men men men men men men men men men men ringtonefrom\n",
            "Sample 3: pc banned cncl cncl gravel europe europe player player player whose whose whose txtauction txtauction txtauction lonely lonely lonely lonely whose whose fmyou landlineonly landlineonly landlineonly landlineonly\n",
            "Sample 4: compare tonesyoucouk tonesyoucouk tonesyoucouk landlineonly bcm bcm bcm bcm bcm bcm bcm terms results nasty them trial street street street street street street street street them them\n",
            "Sample 5: bbdeluxe bedroom bcm bcm bid logon bcm bcm bcm bcm bcm bcm bcm polytruepixringtonesgames polytruepixringtonesgames polytruepixringtonesgames sort sort fixed sort sort men men men men men men\n",
            "-------------------------------------------\n",
            "\n"
          ]
        }
      ],
      "source": [
        "# --- WGAN-GP Training ---\n",
        "print(\"\\n--- Starting Training for WGAN-GP ---\")\n",
        "wgan_c_losses, wgan_g_losses = [], []\n",
        "\n",
        "# Re-instantiate models for WGAN-GP to ensure clean weights for training.\n",
        "generator_wgan = build_generator_continuous_output(VOCAB_SIZE, EMBEDDING_DIM, max_sequence_length, NOISE_DIM)\n",
        "critic_wgan = build_critic_continuous_input(EMBEDDING_DIM, max_sequence_length)\n",
        "\n",
        "# Re-define optimizers for WGAN-GP\n",
        "critic_optimizer_wgan = tf.keras.optimizers.Adam(learning_rate=0.0001, beta_1=0.5, beta_2=0.9)\n",
        "generator_optimizer_wgan = tf.keras.optimizers.Adam(learning_rate=0.0001, beta_1=0.5, beta_2=0.9)\n",
        "\n",
        "\n",
        "for epoch in range(EPOCHS):\n",
        "    for i, batch_sequences in enumerate(train_dataset):\n",
        "        total_critic_loss, g_loss = train_step_wgan(batch_sequences)\n",
        "\n",
        "    wgan_c_losses.append(total_critic_loss.numpy().mean())\n",
        "    wgan_g_losses.append(g_loss.numpy().mean())\n",
        "\n",
        "    if epoch % SAMPLE_INTERVAL == 0:\n",
        "        print(f\"WGAN-GP - Epoch {epoch}/{EPOCHS} | Critic Loss: {wgan_c_losses[-1]:.4f} | G Loss: {wgan_g_losses[-1]:.4f}\")\n",
        "        generate_and_save_samples(generator_wgan, epoch, NOISE_DIM, max_sequence_length, index_word, \"WGAN_GP\", VOCAB_SIZE, shared_embedding_layer)\n"
      ]
    },
    {
      "cell_type": "code",
      "execution_count": 27,
      "metadata": {
        "id": "4GMcnuR0ClTB",
        "colab": {
          "base_uri": "https://localhost:8080/",
          "height": 543
        },
        "outputId": "d10853a0-aa27-4b25-d005-ebac44ef8412"
      },
      "outputs": [
        {
          "output_type": "stream",
          "name": "stdout",
          "text": [
            "\n",
            "--- Plotting Loss Curves ---\n"
          ]
        },
        {
          "output_type": "display_data",
          "data": {
            "text/plain": [
              "<Figure size 1200x500 with 2 Axes>"
            ],
            "image/png": "[encoded data removed]"
          },
          "metadata": {}
        }
      ],
      "source": [
        "# --- Plotting Loss Curves ---\n",
        "print(\"\\n--- Plotting Loss Curves ---\")\n",
        "\n",
        "plt.figure(figsize=(12, 5))\n",
        "\n",
        "plt.subplot(1, 2, 1)\n",
        "plt.plot(vanilla_d_losses, label='Discriminator Loss')\n",
        "plt.plot(vanilla_g_losses, label='Generator Loss')\n",
        "plt.title('Vanilla GAN Training Losses')\n",
        "plt.xlabel('Epoch')\n",
        "plt.ylabel('Loss')\n",
        "plt.legend()\n",
        "plt.grid(True)\n",
        "\n",
        "plt.subplot(1, 2, 2)\n",
        "plt.plot(wgan_c_losses, label='Critic Loss')\n",
        "plt.plot(wgan_g_losses, label='Generator Loss')\n",
        "plt.title('WGAN-GP Training Losses')\n",
        "plt.xlabel('Epoch')\n",
        "plt.ylabel('Loss')\n",
        "plt.legend()\n",
        "plt.grid(True)\n",
        "\n",
        "plt.tight_layout()\n",
        "plt.show()\n"
      ]
    },
    {
      "cell_type": "code",
      "execution_count": 28,
      "metadata": {
        "colab": {
          "base_uri": "https://localhost:8080/"
        },
        "id": "Mf79Fw-tuC9p",
        "outputId": "057d923f-70eb-48eb-84eb-3e98dcf514e8"
      },
      "outputs": [
        {
          "output_type": "stream",
          "name": "stdout",
          "text": [
            "Error loading GAN Generators: [Errno 2] Unable to synchronously open file (unable to open file: name = 'vanilla_gan_generator.h5', errno = 2, error message = 'No such file or directory', flags = 0, o_flags = 0)\n",
            "Please ensure you have run Step 2.4 and the .h5 files exist in your directory.\n",
            "\n",
            "Original Ham samples: 4825\n",
            "Original Spam samples: 747\n",
            "Number of synthetic spam samples to generate: 4078\n"
          ]
        },
        {
          "output_type": "stream",
          "name": "stderr",
          "text": [
            "/usr/local/lib/python3.11/dist-packages/keras/src/ops/nn.py:907: UserWarning: You are using a softmax over axis -1 of a tensor of shape (128, 1). This axis has size 1. The softmax operation will always return the value 1, which is likely not what you intended. Did you mean to use a sigmoid instead?\n",
            "  warnings.warn(\n",
            "/usr/local/lib/python3.11/dist-packages/keras/src/ops/nn.py:907: UserWarning: You are using a softmax over axis -1 of a tensor of shape (110, 1). This axis has size 1. The softmax operation will always return the value 1, which is likely not what you intended. Did you mean to use a sigmoid instead?\n",
            "  warnings.warn(\n"
          ]
        },
        {
          "output_type": "stream",
          "name": "stdout",
          "text": [
            "Generated 4078 synthetic spam samples using Vanilla GAN.\n",
            "Generated 4078 synthetic spam samples using WGAN-GP.\n",
            "\n",
            "--- Example Synthetic Spam (Vanilla GAN) ---\n",
            "1: \n",
            "2: \n",
            "3: \n",
            "\n",
            "--- Example Synthetic Spam (WGAN-GP) ---\n",
            "1: \n",
            "2: \n",
            "3: \n"
          ]
        }
      ],
      "source": [
        "#(Data Preparation)\n",
        "try:\n",
        "    df = pd.read_csv('spam.csv', encoding='utf-8')\n",
        "except UnicodeDecodeError:\n",
        "    df = pd.read_csv('spam.csv', encoding='latin-1')\n",
        "\n",
        "spam_df = df[df['v1'] == 'spam']\n",
        "ham_df = df[df['v1'] == 'ham']\n",
        "spam_texts = spam_df['v2'].tolist()\n",
        "ham_texts = ham_df['v2'].tolist()\n",
        "\n",
        "def clean_text(text):\n",
        "    text = text.lower()\n",
        "    text = re.sub(r'http\\S+|www\\S+|https\\S+', '', text, flags=re.MULTILINE)\n",
        "    text = re.sub(r'<.*?>', '', text)\n",
        "    text = re.sub(r'[^a-z\\s]', '', text)\n",
        "    text = re.sub(r'\\s+', ' ', text).strip()\n",
        "    return text\n",
        "\n",
        "cleaned_spam_texts = [clean_text(text) for text in spam_texts]\n",
        "cleaned_ham_texts = [clean_text(text) for text in ham_texts]\n",
        "\n",
        "tokenizer = Tokenizer(num_words=None, oov_token=\"<unk>\")\n",
        "\n",
        "word_index = tokenizer.word_index\n",
        "index_word = {v: k for k, v in word_index.items()}\n",
        "index_word[0] = \"<pad>\"\n",
        "\n",
        "lengths = [len(s) for s in tokenizer.texts_to_sequences(cleaned_spam_texts + cleaned_ham_texts)]\n",
        "max_sequence_length = int(np.percentile(lengths, 90))\n",
        "if max_sequence_length == 0:\n",
        "    max_sequence_length = 20\n",
        "\n",
        "EMBEDDING_DIM = 128\n",
        "VOCAB_SIZE = len(word_index) + 1\n",
        "NOISE_DIM = 100\n",
        "\n",
        "\n",
        "try:\n",
        "    generator_vanilla = tf.keras.models.load_model('vanilla_gan_generator.h5')\n",
        "    generator_wgan = tf.keras.models.load_model('wgan_gp_generator.h5')\n",
        "    print(\"Trained GAN Generators loaded successfully.\")\n",
        "except Exception as e:\n",
        "    print(f\"Error loading GAN Generators: {e}\")\n",
        "    print(\"Please ensure you have run Step 2.4 and the .h5 files exist in your directory.\")\n",
        "    # Exit or handle error appropriately if models aren't found\n",
        "    exit()\n",
        "\n",
        "# Function to generate text from a generator model\n",
        "def generate_text_samples(generator_model, num_samples, noise_dim, max_seq_length, index_word_map, vocab_size):\n",
        "    \"\"\"\n",
        "    Generates a specified number of text samples from a trained generator.\n",
        "    Assumes generator outputs continuous embeddings and projects them to vocabulary logits.\n",
        "    \"\"\"\n",
        "    generated_texts = []\n",
        "    # Generate in batches to avoid memory issues for very large num_samples\n",
        "    batch_size_gen = 128 # Can be different from training BATCH_SIZE\n",
        "    for _ in range(num_samples // batch_size_gen + 1):\n",
        "        current_batch_size = min(batch_size_gen, num_samples - len(generated_texts))\n",
        "        if current_batch_size <= 0:\n",
        "            break\n",
        "\n",
        "        noise = tf.random.normal([current_batch_size, noise_dim])\n",
        "        generated_embeddings = generator_model(noise, training=False)\n",
        "\n",
        "        # Temporary projection layer to convert embeddings back to vocabulary logits\n",
        "        temp_projection_layer = layers.TimeDistributed(layers.Dense(vocab_size, activation='softmax'))\n",
        "        dummy_input = layers.Input(shape=(max_seq_length, generated_embeddings.shape[-1]))\n",
        "        dummy_output = temp_projection_layer(dummy_input)\n",
        "        temp_projector_model = models.Model(dummy_input, dummy_output)\n",
        "\n",
        "        vocab_probabilities = temp_projector_model(generated_embeddings)\n",
        "        generated_sequences = tf.argmax(vocab_probabilities, axis=-1).numpy()\n",
        "\n",
        "        for seq in generated_sequences:\n",
        "            # Convert sequence of IDs back to text, filtering out padding and unknown tokens\n",
        "            text = ' '.join([index_word_map.get(idx, '') for idx in seq if idx != 0 and index_word_map.get(idx, '') != '<unk>'])\n",
        "            generated_texts.append(text)\n",
        "    return generated_texts[:num_samples]\n",
        "\n",
        "# Calculate how many spam samples are needed to balance the dataset\n",
        "num_ham_samples = len(ham_df)\n",
        "num_spam_samples_original = len(spam_df)\n",
        "samples_to_generate = num_ham_samples - num_spam_samples_original\n",
        "\n",
        "print(f\"\\nOriginal Ham samples: {num_ham_samples}\")\n",
        "print(f\"Original Spam samples: {num_spam_samples_original}\")\n",
        "print(f\"Number of synthetic spam samples to generate: {samples_to_generate}\")\n",
        "\n",
        "# Generate synthetic spam samples\n",
        "synthetic_spam_vanilla = generate_text_samples(generator_vanilla, samples_to_generate, NOISE_DIM, max_sequence_length, index_word, VOCAB_SIZE)\n",
        "print(f\"Generated {len(synthetic_spam_vanilla)} synthetic spam samples using Vanilla GAN.\")\n",
        "\n",
        "synthetic_spam_wgan = generate_text_samples(generator_wgan, samples_to_generate, NOISE_DIM, max_sequence_length, index_word, VOCAB_SIZE)\n",
        "print(f\"Generated {len(synthetic_spam_wgan)} synthetic spam samples using WGAN-GP.\")\n",
        "\n",
        "# Display a few generated samples for verification\n",
        "print(\"\\n--- Example Synthetic Spam (Vanilla GAN) ---\")\n",
        "for i, text in enumerate(synthetic_spam_vanilla[:3]):\n",
        "    print(f\"{i+1}: {text}\")\n",
        "\n",
        "print(\"\\n--- Example Synthetic Spam (WGAN-GP) ---\")\n",
        "for i, text in enumerate(synthetic_spam_wgan[:3]):\n",
        "    print(f\"{i+1}: {text}\")\n"
      ]
    },
    {
      "cell_type": "code",
      "execution_count": null,
      "metadata": {
        "id": "0WaXwje6uUx-"
      },
      "outputs": [],
      "source": [
        "# Dataset 1: Original Imbalanced Dataset\n",
        "# Already loaded as 'df'\n",
        "\n",
        "# Dataset 2: Dataset Balanced using Vanilla GAN\n",
        "synthetic_spam_df_vanilla = pd.DataFrame({'v1': 'spam', 'v2': synthetic_spam_vanilla})\n",
        "df_vanilla_augmented = pd.concat([df, synthetic_spam_df_vanilla], ignore_index=True)\n",
        "print(f\"Vanilla GAN Augmented Dataset size: {len(df_vanilla_augmented)}\")\n",
        "print(f\"Vanilla Augmented Class distribution:\\n{df_vanilla_augmented['v1'].value_counts()}\")\n",
        "\n",
        "\n",
        "# Dataset 3: Dataset Balanced using WGAN-GP\n",
        "synthetic_spam_df_wgan = pd.DataFrame({'v1': 'spam', 'v2': synthetic_spam_wgan})\n",
        "df_wgan_augmented = pd.concat([df, synthetic_spam_df_wgan], ignore_index=True)\n",
        "print(f\"WGAN-GP Augmented Dataset size: {len(df_wgan_augmented)}\")\n",
        "print(f\"WGAN-GP Augmented Class distribution:\\n{df_wgan_augmented['v1'].value_counts()}\")\n",
        "\n",
        "#  Classifier Preprocessing\n",
        "\n",
        "# Encode labels ('ham' -> 0, 'spam' -> 1)\n",
        "label_encoder = LabelEncoder()\n",
        "df['v1_encoded'] = label_encoder.fit_transform(df['v1'])\n",
        "df_vanilla_augmented['v1_encoded'] = label_encoder.transform(df_vanilla_augmented['v1'])\n",
        "df_wgan_augmented['v1_encoded'] = label_encoder.transform(df_wgan_augmented['v1'])\n",
        "\n",
        "# Build the MLP Classifier Model\n",
        "def build_mlp_classifier(vocab_size, embedding_dim, max_sequence_length):\n",
        "    \"\"\"\n",
        "    Builds a simple MLP classifier for text using an Embedding layer.\n",
        "    \"\"\"\n",
        "    model = models.Sequential([\n",
        "        layers.Embedding(vocab_size, embedding_dim, input_length=max_sequence_length, name='classifier_embedding'),\n",
        "        layers.LSTM(128),\n",
        "        layers.Dropout(0.5),\n",
        "        layers.Dense(64, activation='relu'),\n",
        "        layers.Dropout(0.3),\n",
        "        layers.Dense(1, activation='sigmoid')\n",
        "    ])\n",
        "    model.compile(optimizer='adam', loss='binary_crossentropy', metrics=['accuracy'])\n",
        "    return model\n",
        "\n",
        "# Function to Train and Evaluate Classifier\n",
        "def train_and_evaluate_classifier(name, dataset, tokenizer, max_seq_len, vocab_size, embedding_dim):\n",
        "    print(f\"\\n--- Training Classifier on: {name} ---\")\n",
        "    X = dataset['v2'] # Text column\n",
        "    y = dataset['v1_encoded'] # Encoded labels\n",
        "\n",
        "    # Convert text to sequences of integers\n",
        "    X_sequences = tokenizer.texts_to_sequences(X)\n",
        "    # Pad sequences\n",
        "    X_padded = pad_sequences(X_sequences, maxlen=max_seq_len, padding='post', truncating='post')\n",
        "\n",
        "    # Split data into training and testing sets (stratified to maintain class balance)\n",
        "    X_train, X_test, y_train, y_test = train_test_split(\n",
        "        X_padded, y, test_size=0.2, random_state=42, stratify=y\n",
        "    )\n",
        "\n",
        "    # Build and compile the classifier\n",
        "    classifier_model = build_mlp_classifier(vocab_size, embedding_dim, max_seq_len)\n",
        "    classifier_model.summary()\n",
        "\n",
        "    # Define Early Stopping callback\n",
        "    early_stopping = EarlyStopping(monitor='val_loss', patience=5, restore_best_weights=True)\n",
        "\n",
        "    # Train the classifier\n",
        "    history = classifier_model.fit(\n",
        "        X_train, y_train,\n",
        "        epochs=20,\n",
        "        batch_size=32,\n",
        "        validation_split=0.1,\n",
        "        callbacks=[early_stopping],\n",
        "        verbose=1\n",
        "    )\n",
        "\n",
        "    # Evaluate the classifier on the test set\n",
        "    loss, accuracy = classifier_model.evaluate(X_test, y_test, verbose=0)\n",
        "    print(f\"Test Accuracy for {name}: {accuracy:.4f}\")\n",
        "\n",
        "    # Get predictions for detailed metrics\n",
        "    y_pred_proba = classifier_model.predict(X_test)\n",
        "    y_pred = (y_pred_proba > 0.5).astype(int)\n",
        "\n",
        "    return y_test, y_pred, classifier_model\n",
        "\n",
        "# Train and Evaluate for each dataset\n",
        "\n",
        "# 1. Original Imbalanced Dataset\n",
        "y_test_original, y_pred_original, model_original = train_and_evaluate_classifier(\n",
        "    \"Original Imbalanced Dataset\", df, tokenizer, max_sequence_length, VOCAB_SIZE, EMBEDDING_DIM\n",
        ")\n",
        "\n",
        "# 2. Vanilla GAN Augmented Dataset\n",
        "y_test_vanilla, y_pred_vanilla, model_vanilla = train_and_evaluate_classifier(\n",
        "    \"Vanilla GAN Augmented Dataset\", df_vanilla_augmented, tokenizer, max_sequence_length, VOCAB_SIZE, EMBEDDING_DIM\n",
        ")\n",
        "\n",
        "# 3. WGAN-GP Augmented Dataset\n",
        "y_test_wgan, y_pred_wgan, model_wgan = train_and_evaluate_classifier(\n",
        "    \"WGAN-GP Augmented Dataset\", df_wgan_augmented, tokenizer, max_sequence_length, VOCAB_SIZE, EMBEDDING_DIM\n",
        ")\n",
        "\n"
      ]
    },
    {
      "cell_type": "code",
      "execution_count": null,
      "metadata": {
        "id": "-kpwxw03vF-X"
      },
      "outputs": [],
      "source": [
        "# --- Define a helper function to calculate and print metrics ---\n",
        "def evaluate_classifier_performance(name, y_true, y_pred, y_pred_proba=None):\n",
        "    \"\"\"\n",
        "    Calculates and prints common classification metrics.\n",
        "    Args:\n",
        "        name (str): Name of the dataset/scenario (e.g., \"Original Imbalanced\").\n",
        "        y_true (array-like): True labels.\n",
        "        y_pred (array-like): Predicted binary labels.\n",
        "        y_pred_proba (array-like, optional): Predicted probabilities for the positive class.\n",
        "                                             Required for AUC-ROC. Defaults to None.\n",
        "    \"\"\"\n",
        "    print(f\"\\n--- Evaluation for: {name} ---\")\n",
        "\n",
        "    # Ensure y_true and y_pred are numpy arrays for consistent indexing\n",
        "    y_true = np.array(y_true)\n",
        "    y_pred = np.array(y_pred)\n",
        "\n",
        "    accuracy = accuracy_score(y_true, y_pred)\n",
        "    precision = precision_score(y_true, y_pred, pos_label=1)\n",
        "    recall = recall_score(y_true, y_pred, pos_label=1)\n",
        "    f1 = f1_score(y_true, y_pred, pos_label=1)\n",
        "    conf_matrix = confusion_matrix(y_true, y_pred)\n",
        "\n",
        "    print(f\"Accuracy: {accuracy:.4f}\")\n",
        "    print(f\"Precision (Spam): {precision:.4f}\")\n",
        "    print(f\"Recall (Spam): {recall:.4f}\")\n",
        "    print(f\"F1-Score (Spam): {f1:.4f}\")\n",
        "\n",
        "\n",
        "    print(\"\\nConfusion Matrix:\")\n",
        "    print(conf_matrix)\n",
        "\n",
        "    plt.figure(figsize=(6, 5))\n",
        "    sns.heatmap(conf_matrix, annot=True, fmt='d', cmap='Blues', cbar=False,\n",
        "                xticklabels=['Ham', 'Spam'], yticklabels=['Ham', 'Spam'])\n",
        "    plt.xlabel('Predicted Label')\n",
        "    plt.ylabel('True Label')\n",
        "    plt.title(f'Confusion Matrix for {name}')\n",
        "    plt.show()\n",
        "\n",
        "    return {'Accuracy': accuracy, 'Precision': precision, 'Recall': recall, 'F1-Score': f1, 'AUC-ROC': roc_auc}\n",
        "\n",
        "\n",
        "# Re-define build_mlp_classifier if this block is run standalone.\n",
        "def build_mlp_classifier(vocab_size, embedding_dim, max_sequence_length):\n",
        "    model = models.Sequential([\n",
        "        layers.Embedding(vocab_size, embedding_dim, input_length=max_sequence_length, name='classifier_embedding'),\n",
        "        layers.LSTM(128),\n",
        "        layers.Dropout(0.5),\n",
        "        layers.Dense(64, activation='relu'),\n",
        "        layers.Dropout(0.3),\n",
        "        layers.Dense(1, activation='sigmoid')\n",
        "    ])\n",
        "    model.compile(optimizer='adam', loss='binary_crossentropy', metrics=['accuracy'])\n",
        "    return model\n",
        "\n",
        "# Re-define train_and_evaluate_classifier to include y_pred_proba in return\n",
        "def train_and_evaluate_classifier(name, dataset, tokenizer, max_seq_len, vocab_size, embedding_dim):\n",
        "    print(f\"\\n--- Retraining Classifier for Evaluation on: {name} ---\")\n",
        "    X = dataset['v2']\n",
        "    y = dataset['v1_encoded']\n",
        "\n",
        "    X_sequences = tokenizer.texts_to_sequences(X)\n",
        "    X_padded = pad_sequences(X_sequences, maxlen=max_seq_len, padding='post', truncating='post')\n",
        "\n",
        "    # train_test_split\n",
        "    from sklearn.model_selection import train_test_split\n",
        "    X_train, X_test, y_train, y_test = train_test_split(\n",
        "        X_padded, y, test_size=0.2, random_state=42, stratify=y\n",
        "    )\n",
        "\n",
        "    classifier_model = build_mlp_classifier(vocab_size, embedding_dim, max_seq_len)\n",
        "    early_stopping = tf.keras.callbacks.EarlyStopping(monitor='val_loss', patience=5, restore_best_weights=True)\n",
        "\n",
        "    classifier_model.fit(\n",
        "        X_train, y_train,\n",
        "        epochs=20,\n",
        "        batch_size=32,\n",
        "        validation_split=0.1,\n",
        "        callbacks=[early_stopping],\n",
        "        verbose=0\n",
        "    )\n",
        "\n",
        "    loss, accuracy = classifier_model.evaluate(X_test, y_test, verbose=0)\n",
        "    print(f\"  Test Accuracy: {accuracy:.4f}\")\n",
        "\n",
        "    y_pred_proba = classifier_model.predict(X_test)\n",
        "    y_pred = (y_pred_proba > 0.5).astype(int)\n",
        "\n",
        "    return y_test, y_pred, y_pred_proba\n",
        "\n",
        "\n",
        "#training and evaluation for each scenario\n",
        "metrics_results = {}\n",
        "\n",
        "# 1. Original Imbalanced Dataset\n",
        "y_test_original, y_pred_original, y_pred_proba_original = train_and_evaluate_classifier(\n",
        "    \"Original Imbalanced Dataset\", df, tokenizer, max_sequence_length, VOCAB_SIZE, EMBEDDING_DIM\n",
        ")\n",
        "metrics_results['Original'] = evaluate_classifier_performance(\n",
        "    \"Original Imbalanced Dataset\", y_test_original, y_pred_original, y_pred_proba_original\n",
        ")\n",
        "\n",
        "\n",
        "# 2. Vanilla GAN Augmented Dataset\n",
        "y_test_vanilla, y_pred_vanilla, y_pred_proba_vanilla = train_and_evaluate_classifier(\n",
        "    \"Vanilla GAN Augmented Dataset\", df_vanilla_augmented, tokenizer, max_sequence_length, VOCAB_SIZE, EMBEDDING_DIM\n",
        ")\n",
        "metrics_results['Vanilla GAN'] = evaluate_classifier_performance(\n",
        "    \"Vanilla GAN Augmented Dataset\", y_test_vanilla, y_pred_vanilla, y_pred_proba_vanilla\n",
        ")\n",
        "\n",
        "# 3. WGAN-GP Augmented Dataset\n",
        "y_test_wgan, y_pred_wgan, y_pred_proba_wgan = train_and_evaluate_classifier(\n",
        "    \"WGAN-GP Augmented Dataset\", df_wgan_augmented, tokenizer, max_sequence_length, VOCAB_SIZE, EMBEDDING_DIM\n",
        ")\n",
        "metrics_results['WGAN-GP'] = evaluate_classifier_performance(\n",
        "    \"WGAN-GP Augmented Dataset\", y_test_wgan, y_pred_wgan, y_pred_proba_wgan\n",
        ")\n",
        "\n",
        "\n",
        "# Visualize Metric Comparisons\n",
        "print(\"\\n--- Comparing Classifier Performance Across Scenarios ---\")\n",
        "\n",
        "metrics_df = pd.DataFrame(metrics_results).T\n",
        "print(\"\\nOverall Performance Metrics:\")\n",
        "print(metrics_df)\n",
        "\n",
        "# Plotting\n",
        "metrics_to_plot = ['Accuracy', 'Precision', 'Recall', 'F1-Score', 'AUC-ROC']\n",
        "fig, axes = plt.subplots(1, len(metrics_to_plot), figsize=(4 * len(metrics_to_plot), 5), sharey=True)\n",
        "\n",
        "for i, metric in enumerate(metrics_to_plot):\n",
        "    metrics_df[metric].plot(kind='bar', ax=axes[i], color=['skyblue', 'lightcoral', 'lightgreen'])\n",
        "    axes[i].set_title(metric)\n",
        "    axes[i].set_ylabel('Score')\n",
        "    axes[i].tick_params(axis='x', rotation=45)\n",
        "    axes[i].grid(axis='y', linestyle='--', alpha=0.7)\n",
        "\n",
        "plt.tight_layout()\n",
        "plt.show()\n"
      ]
    }
  ],
  "metadata": {
    "colab": {
      "provenance": []
    },
    "kernelspec": {
      "display_name": "Python 3",
      "name": "python3"
    },
    "language_info": {
      "name": "python"
    }
  },
  "nbformat": 4,
  "nbformat_minor": 0
}